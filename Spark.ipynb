{
 "cells": [
  {
   "cell_type": "code",
   "execution_count": 7,
   "id": "5195795e-65f6-4648-8224-08a28f4c7cea",
   "metadata": {},
   "outputs": [
    {
     "name": "stdout",
     "output_type": "stream",
     "text": [
      "SparkSession iniciada.\n"
     ]
    }
   ],
   "source": [
    "import findspark\n",
    "findspark.init('/opt/spark')  # Ruta donde está instalado Spark\n",
    "\n",
    "from pyspark.sql import SparkSession\n",
    "\n",
    "# Inicializar SparkSession\n",
    "spark = SparkSession.builder \\\n",
    "    .appName(\"MedallionArchitecture\") \\\n",
    "    .config(\"spark.master\", \"local\") \\\n",
    "    .config(\"spark.hadoop.fs.defaultFS\", \"hdfs://localhost:9000\") \\\n",
    "    .getOrCreate()\n",
    "\n",
    "print(\"SparkSession iniciada.\")"
   ]
  },
  {
   "cell_type": "code",
   "execution_count": 2,
   "id": "0157966c-55a7-4986-82b8-01b944710681",
   "metadata": {},
   "outputs": [
    {
     "name": "stderr",
     "output_type": "stream",
     "text": [
      "                                                                                \r"
     ]
    },
    {
     "name": "stdout",
     "output_type": "stream",
     "text": [
      "+-------------+-----------+-------------------+-----------+------------------+------------------+------------------------------------+-----------------+\n",
      "|barrio_codigo|customer_id|date_event         |employee_id|latitude          |longitude         |order_id                            |quantity_products|\n",
      "+-------------+-----------+-------------------+-----------+------------------+------------------+------------------------------------+-----------------+\n",
      "|14           |3251       |20/06/2024 03:47:31|2232       |6.185923725950837 |-75.57327270670339|6a3081ca-bcda-48c0-8dad-300c9d84ec78|88               |\n",
      "|14           |3346       |20/06/2024 03:48:01|5668       |6.188404683813707 |-75.5802148606929 |d29f3db8-5199-4f89-8a08-d2980ab61230|92               |\n",
      "|60           |7515       |20/06/2024 03:48:31|6696       |6.281315718428238 |-75.66992697115182|63e60a1d-719f-4466-8bfb-fb67f950b3bc|81               |\n",
      "|70           |9935       |20/06/2024 03:49:01|1473       |6.253404547201645 |-75.66388661403644|982d0ad1-11d7-41e7-b59b-d5d7b773674e|1                |\n",
      "|04           |4813       |20/06/2024 03:49:31|2470       |6.280813215604915 |-75.56030024341175|11047283-8841-4ba2-b38c-6175b24e8f1b|53               |\n",
      "|02           |6374       |20/06/2024 03:50:01|4942       |6.294002401081278 |-75.5598316215985 |222f8a81-d8a7-406f-98e3-a5ce3b1c34b7|11               |\n",
      "|06           |5276       |20/06/2024 03:50:31|3455       |6.286295235068482 |-75.58065882368093|af267f60-9466-4233-a646-bb9f629473b5|69               |\n",
      "|14           |5495       |20/06/2024 03:51:01|3455       |6.187020226112273 |-75.55976418357947|f791476d-14e9-430c-b458-48dfffbcedac|62               |\n",
      "|04           |9889       |20/06/2024 03:51:31|8362       |6.278567380994667 |-75.56353600883851|175fcd1e-9f5c-45f1-9fbb-84a607350dd5|70               |\n",
      "|14           |4898       |20/06/2024 03:52:01|2470       |6.209876533281685 |-75.57492045254199|b1461c8f-980a-4208-bfd5-55c3e6b88f68|22               |\n",
      "|16           |1636       |20/06/2024 03:52:31|2470       |6.229692594852392 |-75.60419201860118|cc6a5704-1921-4876-82df-23cf09af5610|11               |\n",
      "|04           |1535       |20/06/2024 03:53:01|9435       |6.267703938961769 |-75.56009413591305|f06e6601-01d1-4ac4-88ca-d2b63a0488d8|68               |\n",
      "|80           |8467       |20/06/2024 03:53:31|8362       |6.250533354429678 |-75.69626891122974|31dc4d96-c4be-4d04-b308-6769bf5e7703|84               |\n",
      "|04           |5148       |20/06/2024 03:54:01|3455       |6.2740589398799615|-75.56872556656194|5b58a10d-452e-403f-9985-033bb72434ee|65               |\n",
      "|14           |5330       |20/06/2024 03:54:31|6659       |6.195200800701967 |-75.56457682047082|666d8d07-53ce-4e1c-b34b-ceb9a06a031f|16               |\n",
      "|01           |4388       |20/06/2024 03:55:01|1114       |6.287669058094495 |-75.55329398529688|8d75f318-fca3-453a-aae0-5dab3af3c4b7|14               |\n",
      "|60           |7008       |20/06/2024 03:55:31|4750       |6.284307884317822 |-75.63116271396495|c21fc448-8fcf-449d-9c61-f9214778333f|44               |\n",
      "|04           |3545       |20/06/2024 03:56:02|1114       |6.281796793055843 |-75.56408521386179|76cef30b-1de8-46d0-86af-3da9f991af75|44               |\n",
      "+-------------+-----------+-------------------+-----------+------------------+------------------+------------------------------------+-----------------+\n",
      "\n"
     ]
    }
   ],
   "source": [
    "# Ruta al archivo JSON en el contenedor\n",
    "json_path = 'file:///workspace/events.json'  # 'file://' sistema de archivos local\n",
    "\n",
    "# Leer el archivo JSON\n",
    "df_eventos_json = spark.read.json(json_path)\n",
    "\n",
    "# Mostrar los datos\n",
    "df_eventos_json.show(truncate=False)"
   ]
  },
  {
   "cell_type": "code",
   "execution_count": 3,
   "id": "bcf78a27-b06c-4db9-abde-d0765fa21058",
   "metadata": {},
   "outputs": [
    {
     "name": "stdout",
     "output_type": "stream",
     "text": [
      "root\n",
      " |-- barrio_codigo: string (nullable = true)\n",
      " |-- customer_id: long (nullable = true)\n",
      " |-- date_event: string (nullable = true)\n",
      " |-- employee_id: long (nullable = true)\n",
      " |-- latitude: double (nullable = true)\n",
      " |-- longitude: double (nullable = true)\n",
      " |-- order_id: string (nullable = true)\n",
      " |-- quantity_products: long (nullable = true)\n",
      "\n"
     ]
    }
   ],
   "source": [
    "# Mostrar el esquema del DataFrame\n",
    "df_eventos_json.printSchema()"
   ]
  },
  {
   "cell_type": "code",
   "execution_count": 4,
   "id": "a2954de2-cd4a-4ae0-9858-f13ea06594b6",
   "metadata": {},
   "outputs": [
    {
     "name": "stderr",
     "output_type": "stream",
     "text": [
      "                                                                                \r"
     ]
    },
    {
     "name": "stdout",
     "output_type": "stream",
     "text": [
      "Datos escritos en la capa Bronze en formato Parquet en HDFS.\n"
     ]
    }
   ],
   "source": [
    "#DataFrame en formato Parquet en HDFS en la capa Bronze\n",
    "# Ruta donde se guardará el archivo Parquet para la capa Bronze en HDFS\n",
    "bronze_path_hdfs = 'hdfs://localhost:9000/user/spark/bronze_layer'\n",
    "\n",
    "# Escribir el DataFrame en formato Parquet en HDFS\n",
    "df_eventos_json.write.mode(\"overwrite\").parquet(bronze_path_hdfs)\n",
    "\n",
    "print(\"Datos escritos en la capa Bronze en formato Parquet en HDFS.\")"
   ]
  },
  {
   "cell_type": "code",
   "execution_count": 2,
   "id": "a0e7e09b-1bd4-4aeb-a1f9-e8e6151cb475",
   "metadata": {},
   "outputs": [
    {
     "name": "stdout",
     "output_type": "stream",
     "text": [
      "Found 2 items\n",
      "-rw-r--r--   1 root supergroup          0 2024-06-20 05:44 /user/spark/bronze_layer/_SUCCESS\n",
      "-rw-r--r--   1 root supergroup       2383 2024-06-20 05:44 /user/spark/bronze_layer/part-00000-93db9b4f-f058-46b1-9e60-608fce3b4d7c-c000.snappy.parquet\n",
      "\n"
     ]
    }
   ],
   "source": [
    "#Verificar los archivos Parquet en HDFS\n",
    "from subprocess import Popen, PIPE\n",
    "\n",
    "# Ejecutar el comando para listar archivos en HDFS\n",
    "process = Popen(['hadoop', 'fs', '-ls', '/user/spark/bronze_layer'], stdout=PIPE, stderr=PIPE)\n",
    "stdout, stderr = process.communicate()\n",
    "\n",
    "# Mostrar la salida del comando\n",
    "print(stdout.decode())"
   ]
  },
  {
   "cell_type": "code",
   "execution_count": 3,
   "id": "2b05a3c7-f7df-4c9a-b222-dc06039bb8eb",
   "metadata": {},
   "outputs": [],
   "source": [
    "#Dejar las tablas en bronze con HIVE\n",
    "from pyspark.sql import SparkSession\n",
    "\n",
    "spark = SparkSession.builder \\\n",
    "    .appName(\"Spark SQL Hive Integration\") \\\n",
    "    .config(\"spark.sql.warehouse.dir\", \"/user/hive/warehouse\") \\\n",
    "    .enableHiveSupport() \\\n",
    "    .getOrCreate()"
   ]
  },
  {
   "cell_type": "code",
   "execution_count": 6,
   "id": "30a8cef9-7cbf-4cd2-877e-d3eda6de2368",
   "metadata": {},
   "outputs": [
    {
     "name": "stdout",
     "output_type": "stream",
     "text": [
      "+-------------------+-----------+-----------+-----------------+------------------+------------------------------------+-----------------+\n",
      "|Date               |customer_id|employee_id|latitude         |longitude         |order_id                            |quantity_products|\n",
      "+-------------------+-----------+-----------+-----------------+------------------+------------------------------------+-----------------+\n",
      "|2024-06-20 05:44:28|7494       |5668       |6.198870701056316|-75.67207346034631|bd55c434-0138-4c58-b02d-22e2dfc02dc0|26               |\n",
      "+-------------------+-----------+-----------+-----------------+------------------+------------------------------------+-----------------+\n",
      "\n"
     ]
    }
   ],
   "source": [
    "# Leer los datos para verificar\n",
    "df_eventos_bronze = spark.read.parquet('hdfs://localhost:9000/user/spark/bronze_layer')\n",
    "df_eventos_bronze.show(truncate=False)"
   ]
  },
  {
   "cell_type": "code",
   "execution_count": 11,
   "id": "0b38db0d-78a9-460f-8f17-a1a7217edc11",
   "metadata": {},
   "outputs": [
    {
     "data": {
      "text/plain": [
       "DataFrame[]"
      ]
     },
     "execution_count": 11,
     "metadata": {},
     "output_type": "execute_result"
    }
   ],
   "source": [
    "# Crear la base de datos bronze si no existe\n",
    "spark.sql(\"CREATE DATABASE IF NOT EXISTS DB_bronze\")"
   ]
  },
  {
   "cell_type": "code",
   "execution_count": 12,
   "id": "a32748d5-01a6-496b-aa1a-09c6497bb419",
   "metadata": {},
   "outputs": [],
   "source": [
    "# Guardar los datos como una tabla en la base de datos bronze\n",
    "df_eventos_bronze.write.mode('overwrite').saveAsTable('DB_bronze.eventos')"
   ]
  },
  {
   "cell_type": "code",
   "execution_count": 13,
   "id": "c1c00132-c6bf-45b4-95c5-8d776f0f5edc",
   "metadata": {},
   "outputs": [
    {
     "name": "stdout",
     "output_type": "stream",
     "text": [
      "+-------------+-----------+-------------------+-----------+------------------+------------------+------------------------------------+-----------------+\n",
      "|barrio_codigo|customer_id|date_event         |employee_id|latitude          |longitude         |order_id                            |quantity_products|\n",
      "+-------------+-----------+-------------------+-----------+------------------+------------------+------------------------------------+-----------------+\n",
      "|14           |3251       |20/06/2024 03:47:31|2232       |6.185923725950837 |-75.57327270670339|6a3081ca-bcda-48c0-8dad-300c9d84ec78|88               |\n",
      "|14           |3346       |20/06/2024 03:48:01|5668       |6.188404683813707 |-75.5802148606929 |d29f3db8-5199-4f89-8a08-d2980ab61230|92               |\n",
      "|60           |7515       |20/06/2024 03:48:31|6696       |6.281315718428238 |-75.66992697115182|63e60a1d-719f-4466-8bfb-fb67f950b3bc|81               |\n",
      "|70           |9935       |20/06/2024 03:49:01|1473       |6.253404547201645 |-75.66388661403644|982d0ad1-11d7-41e7-b59b-d5d7b773674e|1                |\n",
      "|04           |4813       |20/06/2024 03:49:31|2470       |6.280813215604915 |-75.56030024341175|11047283-8841-4ba2-b38c-6175b24e8f1b|53               |\n",
      "|02           |6374       |20/06/2024 03:50:01|4942       |6.294002401081278 |-75.5598316215985 |222f8a81-d8a7-406f-98e3-a5ce3b1c34b7|11               |\n",
      "|06           |5276       |20/06/2024 03:50:31|3455       |6.286295235068482 |-75.58065882368093|af267f60-9466-4233-a646-bb9f629473b5|69               |\n",
      "|14           |5495       |20/06/2024 03:51:01|3455       |6.187020226112273 |-75.55976418357947|f791476d-14e9-430c-b458-48dfffbcedac|62               |\n",
      "|04           |9889       |20/06/2024 03:51:31|8362       |6.278567380994667 |-75.56353600883851|175fcd1e-9f5c-45f1-9fbb-84a607350dd5|70               |\n",
      "|14           |4898       |20/06/2024 03:52:01|2470       |6.209876533281685 |-75.57492045254199|b1461c8f-980a-4208-bfd5-55c3e6b88f68|22               |\n",
      "|16           |1636       |20/06/2024 03:52:31|2470       |6.229692594852392 |-75.60419201860118|cc6a5704-1921-4876-82df-23cf09af5610|11               |\n",
      "|04           |1535       |20/06/2024 03:53:01|9435       |6.267703938961769 |-75.56009413591305|f06e6601-01d1-4ac4-88ca-d2b63a0488d8|68               |\n",
      "|80           |8467       |20/06/2024 03:53:31|8362       |6.250533354429678 |-75.69626891122974|31dc4d96-c4be-4d04-b308-6769bf5e7703|84               |\n",
      "|04           |5148       |20/06/2024 03:54:01|3455       |6.2740589398799615|-75.56872556656194|5b58a10d-452e-403f-9985-033bb72434ee|65               |\n",
      "|14           |5330       |20/06/2024 03:54:31|6659       |6.195200800701967 |-75.56457682047082|666d8d07-53ce-4e1c-b34b-ceb9a06a031f|16               |\n",
      "|01           |4388       |20/06/2024 03:55:01|1114       |6.287669058094495 |-75.55329398529688|8d75f318-fca3-453a-aae0-5dab3af3c4b7|14               |\n",
      "|60           |7008       |20/06/2024 03:55:31|4750       |6.284307884317822 |-75.63116271396495|c21fc448-8fcf-449d-9c61-f9214778333f|44               |\n",
      "|04           |3545       |20/06/2024 03:56:02|1114       |6.281796793055843 |-75.56408521386179|76cef30b-1de8-46d0-86af-3da9f991af75|44               |\n",
      "|12           |6228       |20/06/2024 03:56:32|1482       |6.266123820351774 |-75.6030441179741 |d14dfc92-f9ee-43a8-ac49-fa6c372a2030|80               |\n",
      "+-------------+-----------+-------------------+-----------+------------------+------------------+------------------------------------+-----------------+\n",
      "\n"
     ]
    }
   ],
   "source": [
    "# Verificar que la tabla está guardada en eventos_bronze\n",
    "spark.sql(\"SELECT * FROM DB_bronze.eventos\").show(truncate=False)"
   ]
  },
  {
   "cell_type": "code",
   "execution_count": null,
   "id": "03ef4574-b82d-4fd4-af39-64d8a463ce17",
   "metadata": {},
   "outputs": [],
   "source": [
    "# Definir la ruta base en HDFS para la capa Silver\n",
    "silver_path_hdfs = 'hdfs://localhost:9000/user/spark/silver_layer/'"
   ]
  },
  {
   "cell_type": "code",
   "execution_count": null,
   "id": "e77b1a26-f0fc-4909-b7ce-260ea66d2bd6",
   "metadata": {},
   "outputs": [],
   "source": [
    "############ CAPA GOLD ########################\n",
    "\n",
    "# Definir la ruta base en HDFS para la capa Gold\n",
    "gold_path_hdfs = 'hdfs://localhost:9000/user/spark/gold_layer/'"
   ]
  },
  {
   "cell_type": "code",
   "execution_count": null,
   "id": "767c4174",
   "metadata": {},
   "outputs": [],
   "source": [
    "import socket\n",
    "import json\n",
    "\n",
    "# Variables para almacenar el número de datos recibidos y el último dato\n",
    "data_count = 0\n",
    "last_data = {}\n",
    "\n",
    "def receive_data(data):\n",
    "    global data_count, last_data\n",
    "    data_count += 1\n",
    "    last_data = json.loads(data)\n",
    "    print(f\"Datos recibidos: {last_data}\")\n",
    "\n",
    "def create_server(host='0.0.0.0', port=5002):\n",
    "    server_socket = socket.socket(socket.AF_INET, socket.SOCK_STREAM)\n",
    "    server_socket.bind((host, port))\n",
    "    server_socket.listen(5)\n",
    "    print(f\"Servidor escuchando en {host}:{port}\")\n",
    "    \n",
    "    while True:\n",
    "        client_socket, addr = server_socket.accept()\n",
    "        print(f\"Conexión establecida con {addr}\")\n",
    "        \n",
    "        data = client_socket.recv(1024).decode('utf-8')\n",
    "        if data:\n",
    "            receive_data(data)\n",
    "            response = json.dumps({\"status\": \"success\"})\n",
    "            client_socket.sendall(response.encode('utf-8'))\n",
    "        \n",
    "        client_socket.close()\n",
    "\n",
    "if __name__ == '__main__':\n",
    "    create_server()"
   ]
  }
 ],
 "metadata": {
  "kernelspec": {
   "display_name": "Python 3 (ipykernel)",
   "language": "python",
   "name": "python3"
  },
  "language_info": {
   "codemirror_mode": {
    "name": "ipython",
    "version": 3
   },
   "file_extension": ".py",
   "mimetype": "text/x-python",
   "name": "python",
   "nbconvert_exporter": "python",
   "pygments_lexer": "ipython3",
   "version": "3.8.10"
  }
 },
 "nbformat": 4,
 "nbformat_minor": 5
}
