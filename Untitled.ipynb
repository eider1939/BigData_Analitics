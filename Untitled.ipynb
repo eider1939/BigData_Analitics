{
 "cells": [
  {
   "cell_type": "code",
   "execution_count": 7,
   "id": "27211b87-5705-4e43-9a8f-0de23726be96",
   "metadata": {},
   "outputs": [
    {
     "name": "stdout",
     "output_type": "stream",
     "text": [
      "SparkSession iniciada.\n"
     ]
    }
   ],
   "source": [
    "import findspark\n",
    "findspark.init('/opt/spark')  # Ruta donde está instalado Spark\n",
    "\n",
    "from pyspark.sql import SparkSession\n",
    "\n",
    "# Inicializar SparkSession\n",
    "spark = SparkSession.builder \\\n",
    "    .appName(\"MedallionArchitecture\") \\\n",
    "    .config(\"spark.master\", \"local\") \\\n",
    "    .config(\"spark.hadoop.fs.defaultFS\", \"hdfs://localhost:9000\") \\\n",
    "    .getOrCreate()\n",
    "\n",
    "print(\"SparkSession iniciada.\")"
   ]
  },
  {
   "cell_type": "code",
   "execution_count": 8,
   "id": "c5ff142d-0455-4f9e-829d-9f4ee0748da4",
   "metadata": {},
   "outputs": [
    {
     "name": "stdout",
     "output_type": "stream",
     "text": [
      "HiveSession iniciada.\n"
     ]
    }
   ],
   "source": [
    "#Dejar las tablas en bronze con HIVE\n",
    "from pyspark.sql import SparkSession\n",
    "\n",
    "spark = SparkSession.builder \\\n",
    "    .appName(\"Spark SQL Hive Integration\") \\\n",
    "    .config(\"spark.sql.warehouse.dir\", \"/user/hive/warehouse\") \\\n",
    "    .enableHiveSupport() \\\n",
    "    .getOrCreate()\n",
    "print(\"HiveSession iniciada.\")"
   ]
  },
  {
   "cell_type": "code",
   "execution_count": 9,
   "id": "314267c2-44a8-46a8-bc7f-d07a1e591c25",
   "metadata": {},
   "outputs": [],
   "source": [
    "bronze_path_hdfs = 'hdfs://localhost:9000/user/spark/bronze_layer'"
   ]
  },
  {
   "cell_type": "code",
   "execution_count": 10,
   "id": "09e89676-52a4-46d4-b9c1-603b63b022fa",
   "metadata": {},
   "outputs": [
    {
     "name": "stdout",
     "output_type": "stream",
     "text": [
      "Found 75 items\n",
      "-rw-r--r--   1 root supergroup          0 2024-06-20 06:02 /user/spark/bronze_layer/_SUCCESS\n",
      "-rw-r--r--   1 root supergroup       2383 2024-06-20 06:01 /user/spark/bronze_layer/part-00000-0189c2e9-62eb-4c3c-aa4f-b6012c1d5bfd-c000.snappy.parquet\n",
      "-rw-r--r--   1 root supergroup       2383 2024-06-20 06:01 /user/spark/bronze_layer/part-00000-04b14177-aa55-4775-9692-804895b0c054-c000.snappy.parquet\n",
      "-rw-r--r--   1 root supergroup       2383 2024-06-20 06:01 /user/spark/bronze_layer/part-00000-0f315e5d-e8fa-4382-94cb-6cd82e777bd1-c000.snappy.parquet\n",
      "-rw-r--r--   1 root supergroup       2383 2024-06-20 06:01 /user/spark/bronze_layer/part-00000-16b3a87c-ed78-418b-a659-46e3a2dffaf9-c000.snappy.parquet\n",
      "-rw-r--r--   1 root supergroup       2383 2024-06-20 06:01 /user/spark/bronze_layer/part-00000-1762176d-ccbf-48ea-92f1-b0b7627dea6d-c000.snappy.parquet\n",
      "-rw-r--r--   1 root supergroup       2383 2024-06-20 05:59 /user/spark/bronze_layer/part-00000-1cdf6d4a-d4aa-4522-be0d-b0ca0f7a5446-c000.snappy.parquet\n",
      "-rw-r--r--   1 root supergroup       2383 2024-06-20 06:01 /user/spark/bronze_layer/part-00000-23ed1e41-685e-47af-938f-f2eba43f94fc-c000.snappy.parquet\n",
      "-rw-r--r--   1 root supergroup       2383 2024-06-20 06:01 /user/spark/bronze_layer/part-00000-24617034-2e66-4f5c-891a-f7f98060291a-c000.snappy.parquet\n",
      "-rw-r--r--   1 root supergroup       2383 2024-06-20 05:56 /user/spark/bronze_layer/part-00000-25be2930-31d5-4828-b513-0980469483b8-c000.snappy.parquet\n",
      "-rw-r--r--   1 root supergroup       2383 2024-06-20 06:01 /user/spark/bronze_layer/part-00000-328192ac-d8d6-432e-baf6-ffe4096d9925-c000.snappy.parquet\n",
      "-rw-r--r--   1 root supergroup       2383 2024-06-20 06:01 /user/spark/bronze_layer/part-00000-3736efbb-283a-460f-94e1-45405075cfb5-c000.snappy.parquet\n",
      "-rw-r--r--   1 root supergroup       2383 2024-06-20 05:56 /user/spark/bronze_layer/part-00000-394b203b-d7c0-47ca-aa90-b9d4621cf5f9-c000.snappy.parquet\n",
      "-rw-r--r--   1 root supergroup       2383 2024-06-20 06:01 /user/spark/bronze_layer/part-00000-3d17ea13-0e8e-4fad-b4e1-8379336de8db-c000.snappy.parquet\n",
      "-rw-r--r--   1 root supergroup       2383 2024-06-20 06:01 /user/spark/bronze_layer/part-00000-467e0360-be5f-49f4-a307-8103e013a2a9-c000.snappy.parquet\n",
      "-rw-r--r--   1 root supergroup       2383 2024-06-20 05:59 /user/spark/bronze_layer/part-00000-4835bcf6-6d0b-4aa0-a65d-e97d2b1d510a-c000.snappy.parquet\n",
      "-rw-r--r--   1 root supergroup       2383 2024-06-20 06:01 /user/spark/bronze_layer/part-00000-499c13ce-8833-4e9b-bf44-e6ab480de5ec-c000.snappy.parquet\n",
      "-rw-r--r--   1 root supergroup       2383 2024-06-20 06:01 /user/spark/bronze_layer/part-00000-4a643769-5e3d-4f70-89ec-eec27c02c778-c000.snappy.parquet\n",
      "-rw-r--r--   1 root supergroup       2383 2024-06-20 05:56 /user/spark/bronze_layer/part-00000-58b60133-28ee-4f83-bef4-638ff9775388-c000.snappy.parquet\n",
      "-rw-r--r--   1 root supergroup       2383 2024-06-20 06:02 /user/spark/bronze_layer/part-00000-5e5037e9-730d-4a2d-982f-7b6b76b02d1d-c000.snappy.parquet\n",
      "-rw-r--r--   1 root supergroup       2383 2024-06-20 06:01 /user/spark/bronze_layer/part-00000-5ff552d0-d490-47b2-a4c8-e947efb1ad11-c000.snappy.parquet\n",
      "-rw-r--r--   1 root supergroup       2383 2024-06-20 06:01 /user/spark/bronze_layer/part-00000-655f391e-096c-411f-94fc-d1f5642c5acb-c000.snappy.parquet\n",
      "-rw-r--r--   1 root supergroup       2383 2024-06-20 06:01 /user/spark/bronze_layer/part-00000-6af22ea4-c155-4bad-b4db-a8329b36103d-c000.snappy.parquet\n",
      "-rw-r--r--   1 root supergroup       2383 2024-06-20 06:01 /user/spark/bronze_layer/part-00000-6c8f7cac-c2cb-4e90-8706-1394a03b5c79-c000.snappy.parquet\n",
      "-rw-r--r--   1 root supergroup       2383 2024-06-20 06:01 /user/spark/bronze_layer/part-00000-6da4e7e1-6ef7-4e32-a0cf-71b945e5a49d-c000.snappy.parquet\n",
      "-rw-r--r--   1 root supergroup       2383 2024-06-20 06:01 /user/spark/bronze_layer/part-00000-7370d531-cb09-48c8-818a-df4d1a6fc878-c000.snappy.parquet\n",
      "-rw-r--r--   1 root supergroup       2383 2024-06-20 06:01 /user/spark/bronze_layer/part-00000-741e712c-66a8-4390-b258-29729da0081a-c000.snappy.parquet\n",
      "-rw-r--r--   1 root supergroup       2383 2024-06-20 06:02 /user/spark/bronze_layer/part-00000-76e16800-a272-4d7b-ae04-a8018d1d1a0b-c000.snappy.parquet\n",
      "-rw-r--r--   1 root supergroup       2383 2024-06-20 05:56 /user/spark/bronze_layer/part-00000-779451c7-ca6c-4557-9ecf-66b46e759d9e-c000.snappy.parquet\n",
      "-rw-r--r--   1 root supergroup       2383 2024-06-20 06:01 /user/spark/bronze_layer/part-00000-7892f02e-d05e-4b1b-a2c6-ef601d23d480-c000.snappy.parquet\n",
      "-rw-r--r--   1 root supergroup       2383 2024-06-20 06:01 /user/spark/bronze_layer/part-00000-7a293d2c-49bd-4770-932e-5f1fdad08768-c000.snappy.parquet\n",
      "-rw-r--r--   1 root supergroup       2383 2024-06-20 05:56 /user/spark/bronze_layer/part-00000-7bb09f1f-a3db-4136-ab8d-cd60f9171436-c000.snappy.parquet\n",
      "-rw-r--r--   1 root supergroup       2383 2024-06-20 05:56 /user/spark/bronze_layer/part-00000-80a10652-a852-4270-8955-73ebff6d7ab5-c000.snappy.parquet\n",
      "-rw-r--r--   1 root supergroup       2383 2024-06-20 06:01 /user/spark/bronze_layer/part-00000-838f1c6a-b35e-4c18-8a72-fc562c8c679b-c000.snappy.parquet\n",
      "-rw-r--r--   1 root supergroup       2383 2024-06-20 06:01 /user/spark/bronze_layer/part-00000-83b4b3e2-9f47-4e0b-b564-78d564b6df9e-c000.snappy.parquet\n",
      "-rw-r--r--   1 root supergroup       2383 2024-06-20 06:01 /user/spark/bronze_layer/part-00000-841f6b8e-e179-4d66-9a69-603213b84c8a-c000.snappy.parquet\n",
      "-rw-r--r--   1 root supergroup       2383 2024-06-20 06:01 /user/spark/bronze_layer/part-00000-8874b96e-27d8-4faa-b25a-45940c846f57-c000.snappy.parquet\n",
      "-rw-r--r--   1 root supergroup       2383 2024-06-20 06:01 /user/spark/bronze_layer/part-00000-889ad0da-18c3-47d1-a7bf-2e62207b0af0-c000.snappy.parquet\n",
      "-rw-r--r--   1 root supergroup       2383 2024-06-20 06:01 /user/spark/bronze_layer/part-00000-8c43753c-5ecc-49f4-be41-171cfb162d52-c000.snappy.parquet\n",
      "-rw-r--r--   1 root supergroup       2383 2024-06-20 06:01 /user/spark/bronze_layer/part-00000-8e941983-01e2-4fe8-83df-99fe60386a02-c000.snappy.parquet\n",
      "-rw-r--r--   1 root supergroup       2383 2024-06-20 06:01 /user/spark/bronze_layer/part-00000-8f74875b-824b-4052-b134-de56dea6bd0c-c000.snappy.parquet\n",
      "-rw-r--r--   1 root supergroup       2383 2024-06-20 06:01 /user/spark/bronze_layer/part-00000-9019ffdf-d1a6-4fc0-b5ff-d180cbec1cb8-c000.snappy.parquet\n",
      "-rw-r--r--   1 root supergroup       2383 2024-06-20 05:56 /user/spark/bronze_layer/part-00000-90e3d2c8-462b-4979-9ee7-de8039c6d616-c000.snappy.parquet\n",
      "-rw-r--r--   1 root supergroup       2383 2024-06-20 06:01 /user/spark/bronze_layer/part-00000-9372811b-f136-4511-8d93-0571d7e3609d-c000.snappy.parquet\n",
      "-rw-r--r--   1 root supergroup       2383 2024-06-20 05:44 /user/spark/bronze_layer/part-00000-93db9b4f-f058-46b1-9e60-608fce3b4d7c-c000.snappy.parquet\n",
      "-rw-r--r--   1 root supergroup       2383 2024-06-20 06:01 /user/spark/bronze_layer/part-00000-96894072-212e-4d49-8f73-35b8ca0fe3f4-c000.snappy.parquet\n",
      "-rw-r--r--   1 root supergroup       2383 2024-06-20 05:56 /user/spark/bronze_layer/part-00000-a727e13c-4c54-44aa-b95a-c651a4a2b3f0-c000.snappy.parquet\n",
      "-rw-r--r--   1 root supergroup       2383 2024-06-20 06:01 /user/spark/bronze_layer/part-00000-abe4e183-6d94-47c8-b436-361c49bb245d-c000.snappy.parquet\n",
      "-rw-r--r--   1 root supergroup       2383 2024-06-20 06:01 /user/spark/bronze_layer/part-00000-ada3926d-51a5-4395-a88b-dd0c70eb6504-c000.snappy.parquet\n",
      "-rw-r--r--   1 root supergroup       2383 2024-06-20 06:02 /user/spark/bronze_layer/part-00000-ade89bf2-e13d-480f-bf70-3cb4e368c397-c000.snappy.parquet\n",
      "-rw-r--r--   1 root supergroup       2383 2024-06-20 06:01 /user/spark/bronze_layer/part-00000-ae26368a-a52c-44c5-b2b2-537ed0e864f5-c000.snappy.parquet\n",
      "-rw-r--r--   1 root supergroup       2383 2024-06-20 05:56 /user/spark/bronze_layer/part-00000-b15facab-cd33-49f2-ba6f-5c30c90a64c7-c000.snappy.parquet\n",
      "-rw-r--r--   1 root supergroup       2383 2024-06-20 06:01 /user/spark/bronze_layer/part-00000-b366d7b8-4206-4f3f-b489-0a08e11acd49-c000.snappy.parquet\n",
      "-rw-r--r--   1 root supergroup       2383 2024-06-20 06:01 /user/spark/bronze_layer/part-00000-b59d2269-9c11-4810-8b0e-b9ae660a4e28-c000.snappy.parquet\n",
      "-rw-r--r--   1 root supergroup       2383 2024-06-20 05:59 /user/spark/bronze_layer/part-00000-b627cff3-5372-41d1-bd91-c6e47e93dabd-c000.snappy.parquet\n",
      "-rw-r--r--   1 root supergroup       2383 2024-06-20 06:01 /user/spark/bronze_layer/part-00000-b696f522-752a-45c0-992e-7c1c42e90257-c000.snappy.parquet\n",
      "-rw-r--r--   1 root supergroup       2383 2024-06-20 06:01 /user/spark/bronze_layer/part-00000-b6d0f589-0821-43ad-b12d-3b55941f7f71-c000.snappy.parquet\n",
      "-rw-r--r--   1 root supergroup       2383 2024-06-20 06:01 /user/spark/bronze_layer/part-00000-b6e04da6-434a-4604-b6f5-a496b00c1a55-c000.snappy.parquet\n",
      "-rw-r--r--   1 root supergroup       2383 2024-06-20 05:59 /user/spark/bronze_layer/part-00000-b94e9fa1-2db1-46ba-9ca3-b1503010bc80-c000.snappy.parquet\n",
      "-rw-r--r--   1 root supergroup       2383 2024-06-20 06:01 /user/spark/bronze_layer/part-00000-be258a50-b9e6-4014-9a7d-f9b834a7fd4b-c000.snappy.parquet\n",
      "-rw-r--r--   1 root supergroup       2383 2024-06-20 06:02 /user/spark/bronze_layer/part-00000-c034a650-5c5a-48ef-bce4-e097061b9995-c000.snappy.parquet\n",
      "-rw-r--r--   1 root supergroup       2383 2024-06-20 06:01 /user/spark/bronze_layer/part-00000-c1d8b0c9-8586-4f91-9ade-e917eb7de837-c000.snappy.parquet\n",
      "-rw-r--r--   1 root supergroup       2383 2024-06-20 05:59 /user/spark/bronze_layer/part-00000-c3c079d1-dfd2-49ec-9baa-4e46585a9b33-c000.snappy.parquet\n",
      "-rw-r--r--   1 root supergroup       2383 2024-06-20 06:01 /user/spark/bronze_layer/part-00000-cbe74987-7bf7-4f2f-867c-72726ab1adb9-c000.snappy.parquet\n",
      "-rw-r--r--   1 root supergroup       2383 2024-06-20 06:01 /user/spark/bronze_layer/part-00000-d10541c1-bdce-4921-ac44-7e92c5379f7a-c000.snappy.parquet\n",
      "-rw-r--r--   1 root supergroup       2383 2024-06-20 06:02 /user/spark/bronze_layer/part-00000-d28947ef-80f2-49f8-8ada-fa293f7218f8-c000.snappy.parquet\n",
      "-rw-r--r--   1 root supergroup       2383 2024-06-20 06:01 /user/spark/bronze_layer/part-00000-d345b958-c390-4b30-84d6-6831706d8096-c000.snappy.parquet\n",
      "-rw-r--r--   1 root supergroup       2383 2024-06-20 06:01 /user/spark/bronze_layer/part-00000-daca3bdb-2038-437e-9256-f8c790a99bf2-c000.snappy.parquet\n",
      "-rw-r--r--   1 root supergroup       2383 2024-06-20 05:59 /user/spark/bronze_layer/part-00000-db1c46ae-21e4-4749-9828-181f9db27baf-c000.snappy.parquet\n",
      "-rw-r--r--   1 root supergroup       2383 2024-06-20 06:01 /user/spark/bronze_layer/part-00000-e9f60334-619a-4809-8c8b-e1ee9b3c0dcf-c000.snappy.parquet\n",
      "-rw-r--r--   1 root supergroup       2383 2024-06-20 05:59 /user/spark/bronze_layer/part-00000-f22bdcaa-3462-47f0-8ccd-4b469d0223e0-c000.snappy.parquet\n",
      "-rw-r--r--   1 root supergroup       2383 2024-06-20 06:01 /user/spark/bronze_layer/part-00000-f238b6cf-17b2-408f-a460-bb0d965e5d53-c000.snappy.parquet\n",
      "-rw-r--r--   1 root supergroup       2383 2024-06-20 06:01 /user/spark/bronze_layer/part-00000-f819dce0-a1e8-473b-81fe-95dcdd039580-c000.snappy.parquet\n",
      "-rw-r--r--   1 root supergroup       2383 2024-06-20 06:01 /user/spark/bronze_layer/part-00000-fdafe063-4e66-467e-90ef-ed61eea5d8bc-c000.snappy.parquet\n",
      "-rw-r--r--   1 root supergroup       2383 2024-06-20 05:56 /user/spark/bronze_layer/part-00000-fe7fca57-53db-4c27-b938-9f9d86a75f06-c000.snappy.parquet\n",
      "\n"
     ]
    }
   ],
   "source": [
    "#Verificar los archivos Parquet en HDFS\n",
    "from subprocess import Popen, PIPE\n",
    "\n",
    "# Ejecutar el comando para listar archivos en HDFS\n",
    "process = Popen(['hadoop', 'fs', '-ls', '/user/spark/bronze_layer'], stdout=PIPE, stderr=PIPE)\n",
    "stdout, stderr = process.communicate()\n",
    "\n",
    "# Mostrar la salida del comando\n",
    "print(stdout.decode())"
   ]
  },
  {
   "cell_type": "code",
   "execution_count": 11,
   "id": "c0c3ccc3-47b9-4a72-8909-112a8555cd9d",
   "metadata": {},
   "outputs": [
    {
     "name": "stderr",
     "output_type": "stream",
     "text": [
      "[Stage 3:>                                                          (0 + 1) / 1]\r"
     ]
    },
    {
     "name": "stdout",
     "output_type": "stream",
     "text": [
      "+-------------------+-----------+-----------+------------------+------------------+------------------------------------+-----------------+\n",
      "|Date               |customer_id|employee_id|latitude          |longitude         |order_id                            |quantity_products|\n",
      "+-------------------+-----------+-----------+------------------+------------------+------------------------------------+-----------------+\n",
      "|2024-06-20 06:01:43|2261       |8362       |6.235361575945086 |-75.58928980541774|e5bf2eef-7b7f-4269-b003-d547b9936b42|39               |\n",
      "|2024-06-20 06:01:26|7447       |6659       |6.196956083547962 |-75.57292564357965|b93482da-0aa6-41e1-be69-8d7ffc60dde2|48               |\n",
      "|2024-06-20 06:01:11|4797       |4750       |6.264280762393579 |-75.60489558378303|13748a1b-479b-4664-af28-47fbed26f9cc|28               |\n",
      "|2024-06-20 06:01:59|6483       |6696       |6.341341872718624 |-75.71483497483337|a347e4f1-522d-440d-aa21-aaa439efac45|3                |\n",
      "|2024-06-20 06:01:30|7775       |6696       |6.327375739222941 |-75.704641593356  |ffeb4edb-0f1e-4710-817f-86e513b29918|10               |\n",
      "|2024-06-20 05:59:03|3586       |5668       |6.168420518466676 |-75.67611362411674|c4665bc2-de12-40eb-ba03-418126509f6f|47               |\n",
      "|2024-06-20 06:01:21|2390       |9438       |6.222799974683006 |-75.67409156390924|0f5432d8-9b36-4037-a193-71127b1a4d2e|8                |\n",
      "|2024-06-20 06:01:33|1117       |1679       |6.284097470892312 |-75.63087766591512|174a8721-9ac9-4f15-973f-9b6631b6b0eb|17               |\n",
      "|2024-06-20 05:56:29|9188       |1561       |6.317083071526147 |-75.66002262198762|0435de08-d16c-4d4a-a797-8db12f28cef2|18               |\n",
      "|2024-06-20 06:01:08|6814       |1679       |6.2203516228569935|-75.64799463975608|80a037f6-5f23-49d4-a2e9-1ff65caa4710|10               |\n",
      "|2024-06-20 06:01:48|7897       |9438       |6.2578944808186465|-75.64452157338712|f86e0447-d503-4e95-a8d0-3ea1fef986e6|10               |\n",
      "|2024-06-20 05:56:47|4801       |1114       |6.279817313558585 |-75.69993750758749|c602e897-9660-49a9-a826-edd71939d4ee|29               |\n",
      "|2024-06-20 06:01:49|4922       |1473       |6.206561784528809 |-75.60221328166526|86911c40-4af6-4049-8104-f3580ab7fc42|50               |\n",
      "|2024-06-20 06:01:41|9723       |5668       |6.253501249470002 |-75.62722142114241|85fcf5d2-7db5-44a8-a1c5-c791ec1ac72a|36               |\n",
      "|2024-06-20 05:59:06|3718       |6659       |6.204435939879284 |-75.64503004257462|53d6080e-0405-46a2-bc6f-4d9f17abbd98|8                |\n",
      "|2024-06-20 06:01:18|8837       |4942       |6.198075666937177 |-75.58663937968932|8680fee6-8425-4d99-ba51-df67d978acdd|40               |\n",
      "|2024-06-20 06:01:13|8611       |3830       |6.297744582831636 |-75.61788173304389|992c0a6d-4866-4606-9399-f2684e04088b|35               |\n",
      "|2024-06-20 05:56:49|8525       |1561       |6.312145460658038 |-75.68321940069136|977ff83d-3b4c-4b21-8f1a-5d05845f4ccb|47               |\n",
      "|2024-06-20 06:02:03|7515       |1473       |6.292129589919946 |-75.58533001150164|8048fdc3-6b44-490b-936f-27cc2fd412c9|5                |\n",
      "|2024-06-20 06:01:38|6253       |2232       |6.339622078055937 |-75.69892456145823|85a757b7-482f-46c0-8baa-3b97d475485e|9                |\n",
      "+-------------------+-----------+-----------+------------------+------------------+------------------------------------+-----------------+\n",
      "only showing top 20 rows\n",
      "\n"
     ]
    },
    {
     "name": "stderr",
     "output_type": "stream",
     "text": [
      "                                                                                \r"
     ]
    }
   ],
   "source": [
    "# Leer los datos para verificar\n",
    "df_eventos_bronze = spark.read.parquet('hdfs://localhost:9000/user/spark/bronze_layer')\n",
    "df_eventos_bronze.show(truncate=False)"
   ]
  },
  {
   "cell_type": "code",
   "execution_count": 20,
   "id": "81370fdf-a46c-4396-a017-480acc865bdb",
   "metadata": {},
   "outputs": [
    {
     "data": {
      "text/plain": [
       "DataFrame[]"
      ]
     },
     "execution_count": 20,
     "metadata": {},
     "output_type": "execute_result"
    }
   ],
   "source": [
    "# Verificar que la tabla está guardada en eventos_bronze\n",
    "# Crear la base de datos bronze si no existe\n",
    "spark.sql(\"CREATE DATABASE IF NOT EXISTS bronze\")"
   ]
  },
  {
   "cell_type": "code",
   "execution_count": 21,
   "id": "040ebf4e-364c-4eb1-bd19-b227599e1743",
   "metadata": {},
   "outputs": [
    {
     "name": "stderr",
     "output_type": "stream",
     "text": [
      "                                                                                \r"
     ]
    }
   ],
   "source": [
    "# Guardar los datos como una tabla en la base de datos bronze\n",
    "df_eventos_bronze.write.mode('overwrite').saveAsTable('bronze.eventos')"
   ]
  },
  {
   "cell_type": "code",
   "execution_count": 22,
   "id": "ff58da08-836c-4013-b95d-89a1d13c508a",
   "metadata": {},
   "outputs": [
    {
     "name": "stdout",
     "output_type": "stream",
     "text": [
      "+-------------------+-----------+-----------+------------------+------------------+------------------------------------+-----------------+\n",
      "|Date               |customer_id|employee_id|latitude          |longitude         |order_id                            |quantity_products|\n",
      "+-------------------+-----------+-----------+------------------+------------------+------------------------------------+-----------------+\n",
      "|2024-06-20 06:01:56|1965       |6337       |6.284667619994017 |-75.63787660176031|bd861e5b-c854-4701-b0e1-6b2cc3cfdf98|37               |\n",
      "|2024-06-20 06:01:58|3103       |6696       |6.308867250343308 |-75.57260726390764|429b80b4-a6e8-41cc-a6a5-39a2e002044d|30               |\n",
      "|2024-06-20 06:01:53|4838       |1679       |6.354332341624887 |-75.69715317434199|cf2a2635-dd23-42a8-aec1-cb1fba71018e|11               |\n",
      "|2024-06-20 06:01:25|1299       |1473       |6.246158899892958 |-75.66249301041485|364b926b-14a6-4bd5-b0fd-deea916e273a|32               |\n",
      "|2024-06-20 06:01:32|6405       |1114       |6.195209365477571 |-75.6933464170038 |d6071d2f-463d-4538-bfc7-0a2a06e8aa9f|24               |\n",
      "|2024-06-20 06:01:37|3802       |6659       |6.229227410186697 |-75.67761338832088|d1aaa316-0d71-4bf8-8c6c-0d1a183bbe53|4                |\n",
      "|2024-06-20 06:01:17|3746       |1114       |6.248644328657541 |-75.65083801299005|4f17bd77-b6d4-4d66-ae32-dff24710de25|38               |\n",
      "|2024-06-20 06:01:39|9424       |1114       |6.238910598611504 |-75.62819624463174|7ccd39b2-511e-4f81-9bec-a8ac594508b1|25               |\n",
      "|2024-06-20 06:01:29|9535       |6696       |6.291235813702125 |-75.58936313126776|73f34038-b854-4148-b0d0-c5ace0dc490e|38               |\n",
      "|2024-06-20 05:56:52|9176       |8362       |6.259206227900199 |-75.53287016020133|1076ebbb-cd83-4782-86dc-d9e5f3017c4a|5                |\n",
      "|2024-06-20 06:01:57|7175       |1561       |6.332218931563169 |-75.71640825984899|ce223fb5-183a-460c-b20b-ea41f7130f78|0                |\n",
      "|2024-06-20 05:44:28|7494       |5668       |6.198870701056316 |-75.67207346034631|bd55c434-0138-4c58-b02d-22e2dfc02dc0|26               |\n",
      "|2024-06-20 06:01:47|6777       |1473       |6.3630561742091665|-75.67929553544927|929225dc-9949-4d23-b3d0-5803f4e9d6b9|4                |\n",
      "|2024-06-20 05:56:50|3984       |9726       |6.260816557249261 |-75.52220869288722|0c337c43-5424-4a6d-be83-a52878f1bd84|6                |\n",
      "|2024-06-20 06:01:16|6742       |6337       |6.26711965812059  |-75.69864702933887|7b6b825b-53fc-4981-a3f9-7e99599120a9|27               |\n",
      "|2024-06-20 06:01:22|9609       |9726       |6.29020119784519  |-75.66109200011768|eae2d7e3-4d84-4c58-8656-adc6cac2dc14|8                |\n",
      "|2024-06-20 06:02:01|4674       |2232       |6.201440473312953 |-75.67470567624967|aeecc08a-2e83-42f2-9342-f55bd8fd41f6|14               |\n",
      "|2024-06-20 06:01:14|5515       |5668       |6.240775138333886 |-75.52835786574956|ac3052d1-6b43-4d57-a24a-2eebc02dec2a|9                |\n",
      "|2024-06-20 05:56:51|4907       |9435       |6.217931617864303 |-75.67657451156519|6cd17dbf-0667-4a8e-8093-bc11a5a859ef|49               |\n",
      "|2024-06-20 06:01:50|8048       |1561       |6.361186331645432 |-75.68396616850683|6c8b7678-017f-40f0-b4e2-bae4b5aa03d0|9                |\n",
      "+-------------------+-----------+-----------+------------------+------------------+------------------------------------+-----------------+\n",
      "only showing top 20 rows\n",
      "\n"
     ]
    }
   ],
   "source": [
    "spark.sql(\"SELECT * FROM bronze.eventos\").show(truncate=False)"
   ]
  },
  {
   "cell_type": "code",
   "execution_count": null,
   "id": "5c049702-a51f-4666-a705-57fb9311185b",
   "metadata": {},
   "outputs": [],
   "source": []
  }
 ],
 "metadata": {
  "kernelspec": {
   "display_name": "Python 3 (ipykernel)",
   "language": "python",
   "name": "python3"
  },
  "language_info": {
   "codemirror_mode": {
    "name": "ipython",
    "version": 3
   },
   "file_extension": ".py",
   "mimetype": "text/x-python",
   "name": "python",
   "nbconvert_exporter": "python",
   "pygments_lexer": "ipython3",
   "version": "3.8.10"
  }
 },
 "nbformat": 4,
 "nbformat_minor": 5
}
