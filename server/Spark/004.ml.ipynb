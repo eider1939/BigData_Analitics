{
 "cells": [
  {
   "cell_type": "markdown",
   "metadata": {
    "application/vnd.databricks.v1+cell": {
     "cellMetadata": {},
     "inputWidgets": {},
     "nuid": "57d36ba5-00dc-414e-9a31-01023a6017ac",
     "showTitle": false,
     "title": ""
    }
   },
   "source": [
    "# SPARK ML\n",
    "MLlib es una biblioteca básica de Spark que proporciona numerosas utilidades para las tareas de aprendizaje automático, por ejemplo: clasificación. Regresión. Agrupación en clústeres."
   ]
  },
  {
   "cell_type": "code",
   "execution_count": 0,
   "metadata": {
    "application/vnd.databricks.v1+cell": {
     "cellMetadata": {},
     "inputWidgets": {},
     "nuid": "60588ea8-cfd6-455c-9cd2-de5189d0d299",
     "showTitle": false,
     "title": ""
    }
   },
   "outputs": [],
   "source": [
    "# definir sesión de spark\n",
    "from pyspark.ml.regression import LinearRegression\n",
    "from pyspark.ml.feature import VectorAssembler\n",
    "from pyspark import SparkFiles\n",
    "from pyspark.sql import SparkSession\n",
    "spark = SparkSession.builder.appName(\"sesion007\").getOrCreate()"
   ]
  },
  {
   "cell_type": "markdown",
   "metadata": {
    "application/vnd.databricks.v1+cell": {
     "cellMetadata": {},
     "inputWidgets": {},
     "nuid": "9b77e9e5-34bf-42fc-ada3-dedfb42a0315",
     "showTitle": false,
     "title": ""
    }
   },
   "source": [
    "## REGRESIÓN LINEA SIMPLE\n",
    "La regresión lineal es un método estadístico fundamental utilizado para modelar la relación entre una variable dependiente (también llamada variable respuesta o variable objetivo) y una o más variables independientes (también llamadas predictores o variables explicativas). En términos simples, busca establecer una relación lineal que explique cómo una variable dependiente cambia en función de una o más variables independientes.\n",
    "\n",
    "documentación de referencia: https://spark.apache.org/docs/latest/ml-guide.html"
   ]
  },
  {
   "cell_type": "markdown",
   "metadata": {
    "application/vnd.databricks.v1+cell": {
     "cellMetadata": {},
     "inputWidgets": {},
     "nuid": "cf999d3c-5490-4e22-a3e2-2473dff6fde9",
     "showTitle": false,
     "title": ""
    }
   },
   "source": [
    "### LIBRERÍAS REQUERIDAS"
   ]
  },
  {
   "cell_type": "markdown",
   "metadata": {
    "application/vnd.databricks.v1+cell": {
     "cellMetadata": {},
     "inputWidgets": {},
     "nuid": "4b4b647f-aaa9-444b-bf70-ee6e32e760ed",
     "showTitle": false,
     "title": ""
    }
   },
   "source": [
    "### DATASET\n",
    "\n",
    "Estos datos representan la edad (en años) y el salario (en miles de dólares) correspondiente. Cada fila en la tabla representa una observación diferente, donde cada persona tiene una edad específica y un salario asociado.\n",
    "\n",
    "| age | salary |\n",
    "|-----|--------|\n",
    "| 25  | 50     |\n",
    "| 30  | 60     |\n",
    "| 35  | 70     |\n",
    "| 40  | 80     |\n",
    "| 45  | 90     |\n",
    "| 50  | 100    |\n",
    "| 55  | 110    |\n",
    "| 60  | 120    |\n",
    "| 65  | 130    |\n",
    "| 70  | 140    |\n",
    "\n",
    "Los datos buscan responder cómo varía el salario en función de la edad. En este caso específico:\n",
    "\n",
    "1. Relación entre edad y salario: La regresión lineal nos permitiría modelar esta relación para entender si existe una tendencia lineal en cómo el salario cambia a medida que la edad aumenta.\n",
    "\n",
    "3. Predicciones de Salario: Una vez ajustado el modelo, podríamos hacer predicciones sobre el salario esperado para edades no observadas en nuestros datos originales. Esto sería útil para entender cómo el salario podría cambiar en función de la edad en el futuro.\n",
    "\n",
    "3. Impacto de la Edad en el Salario: Los coeficientes obtenidos del modelo de regresión lineal nos darían una idea del impacto promedio de cada año adicional de edad en el salario. Esto nos ayuda a cuantificar y entender la relación entre estas variables."
   ]
  },
  {
   "cell_type": "code",
   "execution_count": 0,
   "metadata": {
    "application/vnd.databricks.v1+cell": {
     "cellMetadata": {
      "byteLimit": 2048000,
      "rowLimit": 10000
     },
     "inputWidgets": {},
     "nuid": "ddbc9a86-c5e9-4628-81ff-efe686fb0db8",
     "showTitle": false,
     "title": ""
    }
   },
   "outputs": [],
   "source": [
    "url: str = \"https://gitlab.com/luisvasv/public/-/raw/master/datasets/spark/salaries.txt\"\n",
    "spark.sparkContext.addFile(url)\n",
    "\n",
    "spark_uri: str = \"file://\"+SparkFiles.get(\"salaries.txt\")\n",
    "print(spark_uri)"
   ]
  },
  {
   "cell_type": "markdown",
   "metadata": {
    "application/vnd.databricks.v1+cell": {
     "cellMetadata": {},
     "inputWidgets": {},
     "nuid": "6ecf1548-6af4-497b-a524-3c0759ba2458",
     "showTitle": false,
     "title": ""
    }
   },
   "source": [
    "### IMPLEMENTACION"
   ]
  },
  {
   "cell_type": "markdown",
   "metadata": {
    "application/vnd.databricks.v1+cell": {
     "cellMetadata": {},
     "inputWidgets": {},
     "nuid": "b77c1c6e-b242-47bf-b3dd-e1aaf3f5c920",
     "showTitle": false,
     "title": ""
    }
   },
   "source": [
    "#### LECTURA DE DATOS"
   ]
  },
  {
   "cell_type": "code",
   "execution_count": 0,
   "metadata": {
    "application/vnd.databricks.v1+cell": {
     "cellMetadata": {
      "byteLimit": 2048000,
      "rowLimit": 10000
     },
     "inputWidgets": {},
     "nuid": "11f2f429-cd54-452b-b6c7-329eca3b346a",
     "showTitle": false,
     "title": ""
    }
   },
   "outputs": [],
   "source": [
    "df = spark.read.option(\"header\", True).option(\"inferSchema\", True).csv(spark_uri)\n",
    "df.printSchema()\n",
    "df.show()"
   ]
  },
  {
   "cell_type": "markdown",
   "metadata": {
    "application/vnd.databricks.v1+cell": {
     "cellMetadata": {},
     "inputWidgets": {},
     "nuid": "a530d675-03da-40e1-a814-504f71547a67",
     "showTitle": false,
     "title": ""
    }
   },
   "source": [
    "#### VECTOR ASSEMBLER\n",
    "\n",
    "### ¿Qué es el VectorAssembler?\n",
    "\n",
    "- **Propósito**: Combina múltiples columnas de un DataFrame en un solo vector.\n",
    "- **Importancia**: Necesario para modelos de machine learning en PySpark que requieren una única entrada de características.\n",
    "\n",
    "### ¿Por qué se Usa?\n",
    "\n",
    "- **Requisito de Modelos ML**: Algunos algoritmos (como regresión lineal, regresión logística) necesitan que las características estén en un vector.\n",
    "- **Simplificación de Datos**: Prepara los datos para modelos, mejorando la eficiencia y compatibilidad con pipelines de ML.\n"
   ]
  },
  {
   "cell_type": "code",
   "execution_count": 0,
   "metadata": {
    "application/vnd.databricks.v1+cell": {
     "cellMetadata": {
      "byteLimit": 2048000,
      "rowLimit": 10000
     },
     "inputWidgets": {},
     "nuid": "306be635-9e91-4cd1-a595-8fa596b58f9d",
     "showTitle": false,
     "title": ""
    }
   },
   "outputs": [],
   "source": [
    "assembler = VectorAssembler(inputCols=['age'], outputCol='features')\n",
    "df = assembler.transform(df)\n",
    "df.show()"
   ]
  },
  {
   "cell_type": "markdown",
   "metadata": {
    "application/vnd.databricks.v1+cell": {
     "cellMetadata": {},
     "inputWidgets": {},
     "nuid": "55d087a6-177a-4fb9-ad3b-53c7e5f01f4b",
     "showTitle": false,
     "title": ""
    }
   },
   "source": [
    "####  DEFINIR SETS"
   ]
  },
  {
   "cell_type": "code",
   "execution_count": 0,
   "metadata": {
    "application/vnd.databricks.v1+cell": {
     "cellMetadata": {
      "byteLimit": 2048000,
      "rowLimit": 10000
     },
     "inputWidgets": {},
     "nuid": "bbf3a239-3478-42b2-b592-12cb3a739831",
     "showTitle": false,
     "title": ""
    }
   },
   "outputs": [],
   "source": [
    "# seleccionamos los datos\n",
    "data = df.select('features', 'salary')\n",
    "\n",
    "# se dividen los datos: 80% para entrenamiento, 20% para prueba (valores ajustables)\n",
    "train_data, test_data = data.randomSplit([0.8, 0.2])"
   ]
  },
  {
   "cell_type": "markdown",
   "metadata": {
    "application/vnd.databricks.v1+cell": {
     "cellMetadata": {},
     "inputWidgets": {},
     "nuid": "6b9e97f6-e39c-42a7-8b9c-30937fd9c13d",
     "showTitle": false,
     "title": ""
    }
   },
   "source": [
    "#### DEFINIR Y ENTRENAR MODELO"
   ]
  },
  {
   "cell_type": "code",
   "execution_count": 0,
   "metadata": {
    "application/vnd.databricks.v1+cell": {
     "cellMetadata": {
      "byteLimit": 2048000,
      "rowLimit": 10000
     },
     "inputWidgets": {},
     "nuid": "6e3cfc35-7751-4bd5-9a3e-c7ba375567b7",
     "showTitle": false,
     "title": ""
    }
   },
   "outputs": [],
   "source": [
    "# definición del modelo\n",
    "lr = LinearRegression(featuresCol='features', labelCol='salary')\n",
    "\n",
    "# entrenamioento del modelo\n",
    "lr_model = lr.fit(train_data)"
   ]
  },
  {
   "cell_type": "markdown",
   "metadata": {
    "application/vnd.databricks.v1+cell": {
     "cellMetadata": {},
     "inputWidgets": {},
     "nuid": "50d0374b-8d44-438f-87f0-27e599e923be",
     "showTitle": false,
     "title": ""
    }
   },
   "source": [
    "#### RESULTADOS"
   ]
  },
  {
   "cell_type": "markdown",
   "metadata": {
    "application/vnd.databricks.v1+cell": {
     "cellMetadata": {},
     "inputWidgets": {},
     "nuid": "c3ec1879-2dea-46ac-b2c7-4da3742650cd",
     "showTitle": false,
     "title": ""
    }
   },
   "source": [
    "###### COEFICIENTES\n",
    "\n",
    "El coeficiente (o coeficientes, si hay más de una característica) representa la magnitud del cambio esperado en la variable dependiente (en este caso, el salario) por cada unidad de cambio en la variable independiente (edad).\n",
    "\n",
    "**INTERPRETACIÓN**: el coeficiente es `[2.0]`. Esto significa que, según el modelo ajustado, se espera que el salario aumente en 2 unidades de la moneda (por ejemplo, miles de dólares) por cada unidad adicional de edad.\n",
    "\n",
    "**SIGNIFICADO**: Un coeficiente positivo indica una relación directa entre la variable independiente y la variable dependiente. Es decir, a medida que aumenta la edad, el modelo predice que el salario también aumentará."
   ]
  },
  {
   "cell_type": "code",
   "execution_count": 0,
   "metadata": {
    "application/vnd.databricks.v1+cell": {
     "cellMetadata": {
      "byteLimit": 2048000,
      "rowLimit": 10000
     },
     "inputWidgets": {},
     "nuid": "403e8196-6bab-4fc0-9425-44925975f9a5",
     "showTitle": false,
     "title": ""
    }
   },
   "outputs": [],
   "source": [
    "print(f\"coeficiente(s) ----> : {lr_model.coefficients}\")"
   ]
  },
  {
   "cell_type": "markdown",
   "metadata": {
    "application/vnd.databricks.v1+cell": {
     "cellMetadata": {},
     "inputWidgets": {},
     "nuid": "59594471-a965-4518-87f4-12b2656a70d2",
     "showTitle": false,
     "title": ""
    }
   },
   "source": [
    "###### INTERCEPTO\n",
    "\n",
    "El intercepto es el valor esperado de la variable dependiente cuando todas las variables independientes son cero. En el contexto de regresión lineal, representa el valor inicial de la variable dependiente antes de considerar cualquier efecto de las variables independientes.\n",
    "\n",
    "**INTERPRETACIÓN**: Cuando la edad de un empleado es 0 años, el modelo predice que su salario sería de 0 unidades de la moneda (por ejemplo, 0 dólares)."
   ]
  },
  {
   "cell_type": "code",
   "execution_count": 0,
   "metadata": {
    "application/vnd.databricks.v1+cell": {
     "cellMetadata": {
      "byteLimit": 2048000,
      "rowLimit": 10000
     },
     "inputWidgets": {},
     "nuid": "c2727c3d-a46f-4aee-82bf-ceae6d147344",
     "showTitle": false,
     "title": ""
    }
   },
   "outputs": [],
   "source": [
    "print(f\"intercepto.    ----> : {lr_model.intercept}\")"
   ]
  },
  {
   "cell_type": "markdown",
   "metadata": {
    "application/vnd.databricks.v1+cell": {
     "cellMetadata": {},
     "inputWidgets": {},
     "nuid": "255e8204-534f-4254-b769-47e1a300c6ad",
     "showTitle": false,
     "title": ""
    }
   },
   "source": [
    "###### PREDICCIONES"
   ]
  },
  {
   "cell_type": "code",
   "execution_count": 0,
   "metadata": {
    "application/vnd.databricks.v1+cell": {
     "cellMetadata": {
      "byteLimit": 2048000,
      "rowLimit": 10000
     },
     "inputWidgets": {},
     "nuid": "890d1e27-8512-4af2-b9f7-10651985a76e",
     "showTitle": false,
     "title": ""
    }
   },
   "outputs": [],
   "source": [
    "# creamos unos datos aleatorios para predecir el salario a partir de la edad\n",
    "new_ages = [(20.0,), (55.0,), (58.0,), (63.0,)]\n",
    "df_ages = spark.createDataFrame(new_ages, [\"age\"])\n",
    "df_ages = assembler.transform(df_ages)\n",
    "\n",
    "predictions = lr_model.transform(df_ages)\n",
    "predictions.select(\"features\", \"prediction\").show()\n",
    "\n"
   ]
  }
 ],
 "metadata": {
  "application/vnd.databricks.v1+notebook": {
   "dashboards": [],
   "environmentMetadata": null,
   "language": "python",
   "notebookMetadata": {
    "pythonIndentUnit": 4
   },
   "notebookName": "004.ml",
   "widgets": {}
  }
 },
 "nbformat": 4,
 "nbformat_minor": 0
}
