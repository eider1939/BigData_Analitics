{
 "cells": [
  {
   "cell_type": "markdown",
   "metadata": {
    "application/vnd.databricks.v1+cell": {
     "cellMetadata": {},
     "inputWidgets": {},
     "nuid": "1c881165-88e5-4f15-b599-51d7c0cd9f3f",
     "showTitle": false,
     "title": ""
    }
   },
   "source": [
    "# DATA TYPES\n",
    "Un tipo de datos es una clasificación que especifica el tipo de datos que una variable u objeto puede contener en programación. Los tipos de datos son esenciales porque definen las operaciones que se pueden realizar con los datos, la forma en que se almacenan y cuánta memoria ocupan."
   ]
  },
  {
   "cell_type": "markdown",
   "metadata": {
    "application/vnd.databricks.v1+cell": {
     "cellMetadata": {},
     "inputWidgets": {},
     "nuid": "701257dc-4a48-463f-8de0-d773927e006d",
     "showTitle": false,
     "title": ""
    }
   },
   "source": [
    "## TIPOS DE DATOS\n",
    "\n",
    "la representación está en SQL, pero se puede lo mismo por librerias\n",
    "\n"
   ]
  },
  {
   "cell_type": "markdown",
   "metadata": {
    "application/vnd.databricks.v1+cell": {
     "cellMetadata": {},
     "inputWidgets": {},
     "nuid": "602cdd43-0296-4363-ab59-a9e06b87525f",
     "showTitle": false,
     "title": ""
    }
   },
   "source": [
    "### CREACIÓN DE TABLA"
   ]
  },
  {
   "cell_type": "code",
   "execution_count": 0,
   "metadata": {
    "application/vnd.databricks.v1+cell": {
     "cellMetadata": {},
     "inputWidgets": {},
     "nuid": "98a9c9b6-3252-487e-a8ac-c70324fc82bc",
     "showTitle": false,
     "title": ""
    }
   },
   "outputs": [],
   "source": [
    "%sql\n",
    "CREATE TABLE demo_types(\n",
    "  bigint_field BIGINT COMMENT \"range -9,223,372,036,854,775,808 to 9,223,372,036,854,775,807.\",\n",
    "  long_field LONG COMMENT \"range -9,223,372,036,854,775,808 to 9,223,372,036,854,775,807.\",\n",
    "  binary_field BINARY COMMENT \"type supports byte sequences of any length greater or equal to 0.\",\n",
    "  boolean_field BOOLEAN COMMENT \"supports true and false values.\",\n",
    "  date_field DATE COMMENT \"values of fields year, month, and day, without a time-zone, see format https://docs.databricks.com/sql/language-manual/data-types/date-type.html\",\n",
    "  float_field FLOAT COMMENT \"range of numbers is : -3.402E+38 to -1.175E-37, +1.175E-37 to +3.402E+38\",\n",
    "  real_field REAL COMMENT \"range of numbers is : -3.402E+38 to -1.175E-37, +1.175E-37 to +3.402E+38\",\n",
    "  int_field INT COMMENT \"range of numbers is from -2,147,483,648 to 2,147,483,647\",\n",
    "  integer_field INTEGER COMMENT \"range of numbers is from -2,147,483,648 to 2,147,483,647\",\n",
    "  interval_field INTERVAL DAY TO SECOND COMMENT \" intervals of time either on a scale of seconds or months\",\n",
    "  void_field VOID COMMENT \"void type can hold is NULL\",\n",
    "  smallint_field SMALLINT COMMENT \"range of numbers is from -32,768 to 32,767\",\n",
    "  short_field SHORT COMMENT \"range of numbers is from -32,768 to 32,767\",\n",
    "  string_field STRING COMMENT \"character sequences of any length greater or equal to 0\",\n",
    "  timestamp_field TIMESTAMP COMMENT \"comprising values of fields year, month, day, hour, minute, and second, with the session local time-zone, see formats: https://docs.databricks.com/sql/language-manual/data-types/timestamp-type.html\",\n",
    "  tinyint_field TINYINT COMMENT \"range of numbers is from -128 to 127\",\n",
    "  byte_field BYTE COMMENT \"range of numbers is from -128 to 127\",\n",
    "  array_field ARRAY<TINYINT> COMMENT \"sequence of elements with the type of elementType\",\n",
    "  map_field  MAP<STRING, INT> COMMENT \"set of key-value pairs\",\n",
    "  struct_field  STRUCT<Field1:INT NOT NULL COMMENT 'The first field.',Field2:ARRAY<INT>> COMMENT \"values with the structure described by a sequence of fields\"\n",
    ")"
   ]
  },
  {
   "cell_type": "markdown",
   "metadata": {
    "application/vnd.databricks.v1+cell": {
     "cellMetadata": {},
     "inputWidgets": {},
     "nuid": "0450d3be-7662-46e2-9f53-df703616656a",
     "showTitle": false,
     "title": ""
    }
   },
   "source": [
    "### DESCRIBIR TABLA"
   ]
  },
  {
   "cell_type": "code",
   "execution_count": 0,
   "metadata": {
    "application/vnd.databricks.v1+cell": {
     "cellMetadata": {},
     "inputWidgets": {},
     "nuid": "45aa748d-1995-43d9-b620-73d121e38e0d",
     "showTitle": false,
     "title": ""
    }
   },
   "outputs": [],
   "source": [
    "%sql\n",
    "DESCRIBE EXTENDED demo_types;"
   ]
  },
  {
   "cell_type": "markdown",
   "metadata": {
    "application/vnd.databricks.v1+cell": {
     "cellMetadata": {},
     "inputWidgets": {},
     "nuid": "309ee3dd-02fd-4535-bca6-013c785cefed",
     "showTitle": false,
     "title": ""
    }
   },
   "source": [
    "### INSERTAR DATOS"
   ]
  },
  {
   "cell_type": "code",
   "execution_count": 0,
   "metadata": {
    "application/vnd.databricks.v1+cell": {
     "cellMetadata": {},
     "inputWidgets": {},
     "nuid": "a9ecd086-b7a7-4220-859b-2026f8594f27",
     "showTitle": false,
     "title": ""
    }
   },
   "outputs": [],
   "source": [
    "%sql\n",
    "INSERT INTO demo_types\n",
    "VALUES     ( 92233720368547758,                                     -- bigint_field  bigint\n",
    "  9223372036854775807,                                   -- long_field  bigint\n",
    "  '0b1000',                                              -- binary_field  binary\n",
    "  true,                                                  -- boolean_field  boolean\n",
    "  CAST('17/11/1987' AS DATE),                            -- date_field  date\n",
    "  -5555555555555555.1f,                                  -- float_field  float\n",
    "  -.1f,                                                  -- real_field  float\n",
    "  10,                                                    -- int_field  int\n",
    "  2344,                                                  -- integer_field  int\n",
    "  '11 23:4:0',                                           -- interval_field  interval day to second\n",
    "  NULL,                                                  -- void_field  void\n",
    "  2000,                                                  -- smallint_field  smallint\n",
    "  2000,                                                  -- short_field  smallint\n",
    "  'databricks',                                          -- string_field  string\n",
    "  CAST('2021-7-1T8:43:28.123456' as TIMESTAMP),          -- timestamp_field  timestamp\n",
    "  -128,                                                  -- tinyint_field  tinyint\n",
    "  100,                                                   -- byte_field  tinyint\n",
    "  ARRAY(1, 2, 3, 4, 5, 6, 7),                            -- array_field  array\n",
    "  MAP('red',1, 'black', 2 ),                             -- map_field  map\n",
    "  named_struct('Field1', 1, 'Field2', Array(5, 3, 2, 1)) -- struct_field  struct>\n",
    ") "
   ]
  },
  {
   "cell_type": "markdown",
   "metadata": {
    "application/vnd.databricks.v1+cell": {
     "cellMetadata": {},
     "inputWidgets": {},
     "nuid": "e19f5e72-a924-4006-9eba-04e9a59c0878",
     "showTitle": false,
     "title": ""
    }
   },
   "source": [
    "### EJEMLPOS"
   ]
  },
  {
   "cell_type": "markdown",
   "metadata": {
    "application/vnd.databricks.v1+cell": {
     "cellMetadata": {},
     "inputWidgets": {},
     "nuid": "c3809f63-b75d-4bcd-85c3-097e90bad595",
     "showTitle": false,
     "title": ""
    }
   },
   "source": [
    "#### EJEMPLO 1"
   ]
  },
  {
   "cell_type": "code",
   "execution_count": 0,
   "metadata": {
    "application/vnd.databricks.v1+cell": {
     "cellMetadata": {},
     "inputWidgets": {},
     "nuid": "10e1f3b1-8b98-4cc8-8cd6-9266bc96aa4d",
     "showTitle": false,
     "title": ""
    }
   },
   "outputs": [],
   "source": [
    "%sql\n",
    "SELECT string_field,\n",
    "  binary_field,\n",
    "  boolean_field,\n",
    "  array_field,\n",
    "  map_field,\n",
    "  struct_field\n",
    "FROM   demo_types; "
   ]
  },
  {
   "cell_type": "markdown",
   "metadata": {
    "application/vnd.databricks.v1+cell": {
     "cellMetadata": {},
     "inputWidgets": {},
     "nuid": "2f06e5b2-277e-41e2-9cbd-61e3dda87e67",
     "showTitle": false,
     "title": ""
    }
   },
   "source": [
    "#### EJEMPLO 2"
   ]
  },
  {
   "cell_type": "code",
   "execution_count": 0,
   "metadata": {
    "application/vnd.databricks.v1+cell": {
     "cellMetadata": {},
     "inputWidgets": {},
     "nuid": "3b744abf-0305-4972-979a-6832bb34a59a",
     "showTitle": false,
     "title": ""
    }
   },
   "outputs": [],
   "source": [
    "%sql\n",
    "SELECT array_field[1]\n",
    "FROM   demo_types; "
   ]
  },
  {
   "cell_type": "markdown",
   "metadata": {
    "application/vnd.databricks.v1+cell": {
     "cellMetadata": {},
     "inputWidgets": {},
     "nuid": "e489006c-e862-4b90-90ad-f674574a4c73",
     "showTitle": false,
     "title": ""
    }
   },
   "source": [
    "#### EJEMPLO 3"
   ]
  },
  {
   "cell_type": "code",
   "execution_count": 0,
   "metadata": {
    "application/vnd.databricks.v1+cell": {
     "cellMetadata": {},
     "inputWidgets": {},
     "nuid": "1c81d144-4303-47c9-8bb3-e40099ad18ab",
     "showTitle": false,
     "title": ""
    }
   },
   "outputs": [],
   "source": [
    "%sql\n",
    "SELECT struct_field.Field2 AS general_struct,\n",
    "       struct_field.Field2[2] AS struct_item\n",
    "FROM   demo_types; "
   ]
  },
  {
   "cell_type": "markdown",
   "metadata": {
    "application/vnd.databricks.v1+cell": {
     "cellMetadata": {},
     "inputWidgets": {},
     "nuid": "c01b0b62-a367-4c44-84d2-7521aef1696e",
     "showTitle": false,
     "title": ""
    }
   },
   "source": [
    "#### EJEMPLO 4"
   ]
  },
  {
   "cell_type": "code",
   "execution_count": 0,
   "metadata": {
    "application/vnd.databricks.v1+cell": {
     "cellMetadata": {},
     "inputWidgets": {},
     "nuid": "a2524658-0253-4b85-9459-9a26aac38711",
     "showTitle": false,
     "title": ""
    }
   },
   "outputs": [],
   "source": [
    "%sql\n",
    "SELECT map_field AS general_map,\n",
    "       map_field['red'] AS map_item\n",
    "FROM demo_types; "
   ]
  }
 ],
 "metadata": {
  "application/vnd.databricks.v1+notebook": {
   "dashboards": [],
   "environmentMetadata": null,
   "language": "python",
   "notebookMetadata": {
    "pythonIndentUnit": 4
   },
   "notebookName": "001.datatypes",
   "widgets": {}
  }
 },
 "nbformat": 4,
 "nbformat_minor": 0
}
