{
 "cells": [
  {
   "cell_type": "code",
   "execution_count": null,
   "id": "1a37fd10-a085-4c74-8501-c92f00b6dcdd",
   "metadata": {},
   "outputs": [
    {
     "name": "stderr",
     "output_type": "stream",
     "text": [
      "Setting default log level to \"WARN\".\n",
      "To adjust logging level use sc.setLogLevel(newLevel). For SparkR, use setLogLevel(newLevel).\n"
     ]
    }
   ],
   "source": [
    "import socket\n",
    "\n",
    "def send_data(host, port, messages):\n",
    "    with socket.socket(socket.AF_INET, socket.SOCK_STREAM) as s:\n",
    "        s.connect((host, port))\n",
    "        for message in messages:\n",
    "            s.sendall(message.encode('utf-8'))\n",
    "            print(f'Sent: {message}')\n",
    "\n",
    "if __name__ == \"__main__\":\n",
    "    host = 'localhost'\n",
    "    port = 12345\n",
    "    messages = [\n",
    "        \"hello world\",\n",
    "        \"pyspark streaming\",\n",
    "        \"socket programming\",\n",
    "        \"word count example\"\n",
    "    ]\n",
    "\n",
    "    send_data(host, port, messages)\n",
    "\n"
   ]
  },
  {
   "cell_type": "code",
   "execution_count": null,
   "id": "b4ffde22-f243-4c28-93a6-a9697eab4afc",
   "metadata": {},
   "outputs": [],
   "source": [
    "!curl -X POST -H \"Content-Type: application/json\" -d '{\"word\": \"hello\", \"count\": 1}' http://localhost:5002/endpoint\n"
   ]
  },
  {
   "cell_type": "code",
   "execution_count": null,
   "id": "11cc2583-4e14-4d40-9dc3-840ec162f654",
   "metadata": {},
   "outputs": [],
   "source": []
  }
 ],
 "metadata": {
  "kernelspec": {
   "display_name": "Python 3 (ipykernel)",
   "language": "python",
   "name": "python3"
  },
  "language_info": {
   "codemirror_mode": {
    "name": "ipython",
    "version": 3
   },
   "file_extension": ".py",
   "mimetype": "text/x-python",
   "name": "python",
   "nbconvert_exporter": "python",
   "pygments_lexer": "ipython3",
   "version": "3.8.10"
  }
 },
 "nbformat": 4,
 "nbformat_minor": 5
}
