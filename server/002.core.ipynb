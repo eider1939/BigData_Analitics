{
 "cells": [
  {
   "cell_type": "markdown",
   "metadata": {
    "application/vnd.databricks.v1+cell": {
     "cellMetadata": {},
     "inputWidgets": {},
     "nuid": "0be3b7ad-8b95-4f35-a6f1-9cc3186be200",
     "showTitle": false,
     "title": ""
    }
   },
   "source": [
    "# DF CONCEPTOS PRINCIPALES\n",
    "\n",
    "Los conceptos core son aquellos que nos permiten realizar transformaciones con metodos y funcionalidades"
   ]
  },
  {
   "cell_type": "code",
   "execution_count": 5,
   "metadata": {
    "application/vnd.databricks.v1+cell": {
     "cellMetadata": {},
     "inputWidgets": {},
     "nuid": "caced42b-0db1-4211-b00b-59540acbf753",
     "showTitle": false,
     "title": ""
    }
   },
   "outputs": [],
   "source": [
    "# definir sesión de spark\n",
    "from pyspark.sql import SparkSession\n",
    "spark = SparkSession.builder.appName(\"sesion007\").getOrCreate()"
   ]
  },
  {
   "cell_type": "markdown",
   "metadata": {
    "application/vnd.databricks.v1+cell": {
     "cellMetadata": {},
     "inputWidgets": {},
     "nuid": "0a9995c5-1d9b-4c93-a170-26afa6275502",
     "showTitle": false,
     "title": ""
    }
   },
   "source": [
    "## DF READER\n",
    "\n",
    "DataFrameReader es una API fluida para describir la fuente de datos de entrada que se utilizará para \"cargar\" datos desde una fuente de datos externa (por ejemplo, archivos, tablas, JDBC o Dataset[String])\n",
    "\n",
    "sintaxis:\n",
    "```python\n",
    "spark.read.[options(key, value)].format\n",
    "```\n",
    "references: https://spark.apache.org/docs/latest/api/python/reference/pyspark.sql/api/pyspark.sql.DataFrameReader.html\n",
    "\n"
   ]
  },
  {
   "cell_type": "code",
   "execution_count": null,
   "metadata": {
    "application/vnd.databricks.v1+cell": {
     "cellMetadata": {
      "byteLimit": 2048000,
      "rowLimit": 10000
     },
     "inputWidgets": {},
     "nuid": "1b179e99-b1ce-4429-9747-2c7cca396a75",
     "showTitle": false,
     "title": ""
    }
   },
   "outputs": [],
   "source": [
    "# lectura desde pandas\n",
    "import pandas as pd\n",
    "\n",
    "pd.read_csv(\"https://gitlab.com/luisvasv/public/-/raw/master/datasets/004.mock.data/001.dependents.csv\")"
   ]
  },
  {
   "cell_type": "code",
   "execution_count": null,
   "metadata": {
    "application/vnd.databricks.v1+cell": {
     "cellMetadata": {
      "byteLimit": 2048000,
      "rowLimit": 10000
     },
     "inputWidgets": {},
     "nuid": "26e0ce29-d2f7-4e67-81af-f8d61dadd498",
     "showTitle": false,
     "title": ""
    }
   },
   "outputs": [],
   "source": [
    "\n",
    "from pyspark import SparkFiles\n",
    "# usando spark\n",
    "\n",
    "# csv referencia: https://spark.apache.org/docs/latest/sql-data-sources-csv.html\n",
    "\n",
    "url: str = \"https://gitlab.com/luisvasv/public/-/raw/master/datasets/004.mock.data/001.dependents.csv\"\n",
    "spark.sparkContext.addFile(url)\n",
    "\n",
    "spark_uri: str = \"file://\"+SparkFiles.get(\"001.dependents.csv\")\n",
    "print(spark_uri)\n",
    "# Nota: para datos almacenados en en file store no son necesario este paso"
   ]
  },
  {
   "cell_type": "code",
   "execution_count": null,
   "metadata": {
    "application/vnd.databricks.v1+cell": {
     "cellMetadata": {
      "byteLimit": 2048000,
      "rowLimit": 10000
     },
     "inputWidgets": {},
     "nuid": "a60fa161-96f9-4393-bcf1-b0df917391b8",
     "showTitle": false,
     "title": ""
    }
   },
   "outputs": [],
   "source": [
    "# forma 1\n",
    "spark.read.option(\"sep\", \",\").option(\"header\", True).csv(spark_uri)\n"
   ]
  },
  {
   "cell_type": "code",
   "execution_count": null,
   "metadata": {
    "application/vnd.databricks.v1+cell": {
     "cellMetadata": {
      "byteLimit": 2048000,
      "rowLimit": 10000
     },
     "inputWidgets": {},
     "nuid": "ccda0ac3-48f1-49dd-99f6-12881020537d",
     "showTitle": false,
     "title": ""
    }
   },
   "outputs": [],
   "source": [
    "# forma 2\n",
    "spark.read.csv(spark_uri, header=True, sep=\",\")"
   ]
  },
  {
   "cell_type": "code",
   "execution_count": null,
   "metadata": {
    "application/vnd.databricks.v1+cell": {
     "cellMetadata": {
      "byteLimit": 2048000,
      "rowLimit": 10000
     },
     "inputWidgets": {},
     "nuid": "0f5ba990-f5d1-44ad-95a4-d506adc1b8f6",
     "showTitle": false,
     "title": ""
    }
   },
   "outputs": [],
   "source": [
    "# forma 3\n",
    "spark.read.format(\"csv\").option(\"sep\", \",\").option(\"header\", True).load(spark_uri)"
   ]
  },
  {
   "cell_type": "code",
   "execution_count": null,
   "metadata": {
    "application/vnd.databricks.v1+cell": {
     "cellMetadata": {
      "byteLimit": 2048000,
      "rowLimit": 10000
     },
     "inputWidgets": {},
     "nuid": "8b92b960-82ef-4b23-91c8-4021a0de2a73",
     "showTitle": false,
     "title": ""
    }
   },
   "outputs": [],
   "source": [
    "# configurando esquema forma #1\n",
    "spark.read.option(\"sep\", \",\").option(\"header\", True).option(\"inferSchema\", True).csv(spark_uri)\n"
   ]
  },
  {
   "cell_type": "code",
   "execution_count": null,
   "metadata": {
    "application/vnd.databricks.v1+cell": {
     "cellMetadata": {},
     "inputWidgets": {},
     "nuid": "e0f6753d-bbde-4035-9cc1-b50ee52c6586",
     "showTitle": false,
     "title": ""
    }
   },
   "outputs": [],
   "source": [
    "# configurando esquema forma #2\n",
    "from pyspark.sql.types import StructType, StructField, StringType, IntegerType\n",
    "schema = StructType([\n",
    "    StructField(\"first_name\", StringType(), True),\n",
    "    StructField(\"last_name\", StringType(), True),\n",
    "    StructField(\"email_dependents\", StringType(), True),\n",
    "    StructField(\"age\", IntegerType(), True)\n",
    "])\n",
    "\n",
    "spark.read.csv(spark_uri, header=True, sep=\",\", schema=schema)"
   ]
  },
  {
   "cell_type": "code",
   "execution_count": null,
   "metadata": {
    "application/vnd.databricks.v1+cell": {
     "cellMetadata": {
      "byteLimit": 2048000,
      "rowLimit": 10000
     },
     "inputWidgets": {},
     "nuid": "2daf1f3f-07aa-4771-9eca-0b55d6846078",
     "showTitle": false,
     "title": ""
    }
   },
   "outputs": [],
   "source": [
    "# configurando esquema forma #3\n",
    "spark.read.schema(schema).format(\"csv\").option(\"sep\", \",\").option(\"header\", True).load(spark_uri)"
   ]
  },
  {
   "cell_type": "code",
   "execution_count": null,
   "metadata": {
    "application/vnd.databricks.v1+cell": {
     "cellMetadata": {
      "byteLimit": 2048000,
      "rowLimit": 10000
     },
     "inputWidgets": {},
     "nuid": "96233cfe-d80a-4dc9-93f0-648b42524577",
     "showTitle": false,
     "title": ""
    }
   },
   "outputs": [],
   "source": [
    "# configurando esquema forma #4\n",
    "sql_ddl = \"first_name STRING, last_name STRING, email_dependents STRING, age INT\"\n",
    "spark.read.schema(sql_ddl).format(\"csv\").option(\"sep\", \",\").option(\"header\", True).load(spark_uri)"
   ]
  },
  {
   "cell_type": "markdown",
   "metadata": {
    "application/vnd.databricks.v1+cell": {
     "cellMetadata": {},
     "inputWidgets": {},
     "nuid": "1680e696-5d44-4fb1-a7cc-6beda4c078a8",
     "showTitle": false,
     "title": ""
    }
   },
   "source": [
    "## DF WRITER\n",
    "DataFrameWriter es una API en PySpark que proporciona métodos para escribir datos de un DataFrame en varios formatos de almacenamiento. Permite guardar los datos en sistemas de archivos, bases de datos y otros almacenes de datos compatibles. \n",
    "\n"
   ]
  },
  {
   "cell_type": "code",
   "execution_count": null,
   "metadata": {
    "application/vnd.databricks.v1+cell": {
     "cellMetadata": {
      "byteLimit": 2048000,
      "rowLimit": 10000
     },
     "inputWidgets": {},
     "nuid": "493f0d15-8702-4514-b728-d5c9fc998fce",
     "showTitle": false,
     "title": ""
    }
   },
   "outputs": [],
   "source": [
    "# datos para evaluar\n",
    "df_from_uri = spark.read.schema(sql_ddl).format(\"csv\").option(\"sep\", \",\").option(\"header\", True).load(spark_uri)\n",
    "df_from_uri.show()"
   ]
  },
  {
   "cell_type": "code",
   "execution_count": null,
   "metadata": {
    "application/vnd.databricks.v1+cell": {
     "cellMetadata": {
      "byteLimit": 2048000,
      "rowLimit": 10000
     },
     "inputWidgets": {},
     "nuid": "63126d50-aa7c-4eaa-8e26-ce7f4e72826e",
     "showTitle": false,
     "title": ""
    }
   },
   "outputs": [],
   "source": [
    "# 1. forma elemental\n",
    "\n",
    "df_from_uri.write.csv(\"file:///tmp/unal.csv\", header=False)"
   ]
  },
  {
   "cell_type": "code",
   "execution_count": null,
   "metadata": {
    "application/vnd.databricks.v1+cell": {
     "cellMetadata": {
      "byteLimit": 2048000,
      "rowLimit": 10000
     },
     "inputWidgets": {},
     "nuid": "62756f44-6159-4539-81ae-3babf02e4c92",
     "showTitle": false,
     "title": ""
    }
   },
   "outputs": [],
   "source": [
    "%sh \n",
    "ls /tmp/unal.csv"
   ]
  },
  {
   "cell_type": "code",
   "execution_count": null,
   "metadata": {
    "application/vnd.databricks.v1+cell": {
     "cellMetadata": {
      "byteLimit": 2048000,
      "rowLimit": 10000
     },
     "inputWidgets": {},
     "nuid": "2680108b-a2cf-471a-9aa5-7e8681245dac",
     "showTitle": false,
     "title": ""
    }
   },
   "outputs": [],
   "source": [
    "%sh\n",
    "cat /tmp/unal.csv/part-00000-tid-8222788517052140540-21f50e54-2c5c-4aaf-98bf-e285e6434977-7-1-c000.csv"
   ]
  },
  {
   "cell_type": "code",
   "execution_count": null,
   "metadata": {
    "application/vnd.databricks.v1+cell": {
     "cellMetadata": {
      "byteLimit": 2048000,
      "rowLimit": 10000
     },
     "inputWidgets": {},
     "nuid": "edffac05-14b2-40e7-9364-1898af2e053b",
     "showTitle": false,
     "title": ""
    }
   },
   "outputs": [],
   "source": [
    "# 2. forma básica\n",
    "\n",
    "df_from_uri.write.format(\"csv\").option(\"sep\", \";\").option(\"header\", True).save(\"file:///tmp/unal2.csv\")"
   ]
  },
  {
   "cell_type": "code",
   "execution_count": null,
   "metadata": {
    "application/vnd.databricks.v1+cell": {
     "cellMetadata": {
      "byteLimit": 2048000,
      "rowLimit": 10000
     },
     "inputWidgets": {},
     "nuid": "63ddc1fc-5890-450b-b49f-f2a13ec0d2cc",
     "showTitle": false,
     "title": ""
    }
   },
   "outputs": [],
   "source": [
    "# 3. forma para guardar como una tabla\n",
    "# overwrite = Sobrescribe cualquier tabla existente con el mismo nombre. Si la tabla no existe, la crea.\n",
    "# append: Añade datos a la tabla existente. Si la tabla no existe, la crea.\n",
    "\n",
    "modo: str = \"overwrite\"\n",
    "df_from_uri.write.mode(modo).saveAsTable(\"unal.users\")"
   ]
  },
  {
   "cell_type": "code",
   "execution_count": null,
   "metadata": {
    "application/vnd.databricks.v1+cell": {
     "cellMetadata": {
      "byteLimit": 2048000,
      "implicitDf": true,
      "rowLimit": 10000
     },
     "inputWidgets": {},
     "nuid": "0f934321-e5ec-4f96-b921-3bb5b1097b94",
     "showTitle": false,
     "title": ""
    }
   },
   "outputs": [],
   "source": [
    "%sql\n",
    "\n",
    "show databases;"
   ]
  },
  {
   "cell_type": "code",
   "execution_count": null,
   "metadata": {
    "application/vnd.databricks.v1+cell": {
     "cellMetadata": {
      "byteLimit": 2048000,
      "implicitDf": true,
      "rowLimit": 10000
     },
     "inputWidgets": {},
     "nuid": "86114163-29a2-463d-90fd-a21b12769062",
     "showTitle": false,
     "title": ""
    }
   },
   "outputs": [],
   "source": [
    "%sql\n",
    "describe unal.users;"
   ]
  },
  {
   "cell_type": "markdown",
   "metadata": {
    "application/vnd.databricks.v1+cell": {
     "cellMetadata": {},
     "inputWidgets": {},
     "nuid": "0b0b9530-86d9-4f14-869d-59f24072c53c",
     "showTitle": false,
     "title": ""
    }
   },
   "source": [
    "## TRANSFORMACIONES CORE\n",
    "\n",
    "as transformaciones de DataFrame en PySpark se refieren a las operaciones que se pueden aplicar a un DataFrame para modificar, filtrar, agregar o manipular los datos de alguna manera. Las transformaciones en PySpark son operaciones lazy, lo que significa que no se ejecutan de inmediato cuando se definen, sino que se aplican de manera acumulativa y se ejecutan solo cuando se llama a una acción que requiere resultados concretos (como `show()`,` count()`, `collect()`, etc.).\n",
    "\n",
    "Las transformaciones tambien pueden verse como:\n",
    "\n",
    "<img \n",
    "     src=\"https://i.postimg.cc/tgJPjJ3s/001-clase.png\" \n",
    "     alt=\"reporte\" \n",
    "     border=\"0\"\n",
    "/>\n",
    "\n",
    "\n",
    "\n",
    "Nota: En la siguiente sección nos centraremos en cargar datos desde una tabla, ya que de ofros formatos fue visto previamente\n"
   ]
  },
  {
   "cell_type": "markdown",
   "metadata": {
    "application/vnd.databricks.v1+cell": {
     "cellMetadata": {},
     "inputWidgets": {},
     "nuid": "0bd1c6af-f239-4df5-a46a-15b2643ff769",
     "showTitle": false,
     "title": ""
    }
   },
   "source": [
    "### CARGAR DESDE UNA BD\n",
    "\n",
    "Se enfoca en esta parte, ya que es uno de los usos mas comunes"
   ]
  },
  {
   "cell_type": "markdown",
   "metadata": {
    "application/vnd.databricks.v1+cell": {
     "cellMetadata": {},
     "inputWidgets": {},
     "nuid": "9ddf4c5d-dca6-40c4-81f7-0d45c1e297f8",
     "showTitle": false,
     "title": ""
    }
   },
   "source": [
    "#### TABLE"
   ]
  },
  {
   "cell_type": "code",
   "execution_count": null,
   "metadata": {
    "application/vnd.databricks.v1+cell": {
     "cellMetadata": {
      "byteLimit": 2048000,
      "rowLimit": 10000
     },
     "inputWidgets": {},
     "nuid": "883f8220-2233-4ada-99c2-9c7770159da0",
     "showTitle": false,
     "title": ""
    }
   },
   "outputs": [],
   "source": [
    "# selecciona la tabla\n",
    "spark.table(\"unal.users\")"
   ]
  },
  {
   "cell_type": "markdown",
   "metadata": {
    "application/vnd.databricks.v1+cell": {
     "cellMetadata": {},
     "inputWidgets": {},
     "nuid": "0c84b5e1-9b8a-4b93-a871-d8c32d4384bc",
     "showTitle": false,
     "title": ""
    }
   },
   "source": [
    "#### READ"
   ]
  },
  {
   "cell_type": "code",
   "execution_count": null,
   "metadata": {
    "application/vnd.databricks.v1+cell": {
     "cellMetadata": {
      "byteLimit": 2048000,
      "rowLimit": 10000
     },
     "inputWidgets": {},
     "nuid": "da5dc24b-3c4a-4164-8f5b-04172f6b7986",
     "showTitle": false,
     "title": ""
    }
   },
   "outputs": [],
   "source": [
    "spark.read.table(\"unal.users\")"
   ]
  },
  {
   "cell_type": "markdown",
   "metadata": {
    "application/vnd.databricks.v1+cell": {
     "cellMetadata": {},
     "inputWidgets": {},
     "nuid": "d19acdd9-f92c-408b-babf-e9e0aa9295c4",
     "showTitle": false,
     "title": ""
    }
   },
   "source": [
    "#### SQL"
   ]
  },
  {
   "cell_type": "code",
   "execution_count": null,
   "metadata": {
    "application/vnd.databricks.v1+cell": {
     "cellMetadata": {
      "byteLimit": 2048000,
      "rowLimit": 10000
     },
     "inputWidgets": {},
     "nuid": "70597b4d-2f2a-4974-ac82-429653ba66eb",
     "showTitle": false,
     "title": ""
    }
   },
   "outputs": [],
   "source": [
    "spark.sql(\"SELECT * FROM unal.users\")"
   ]
  },
  {
   "cell_type": "markdown",
   "metadata": {
    "application/vnd.databricks.v1+cell": {
     "cellMetadata": {},
     "inputWidgets": {},
     "nuid": "d7a64ffa-ae7e-4e47-b173-97f306de752c",
     "showTitle": false,
     "title": ""
    }
   },
   "source": [
    "### SELECCIONAR DATOS"
   ]
  },
  {
   "cell_type": "markdown",
   "metadata": {
    "application/vnd.databricks.v1+cell": {
     "cellMetadata": {},
     "inputWidgets": {},
     "nuid": "87fd86c4-f654-493b-ada5-d1ed7a329362",
     "showTitle": false,
     "title": ""
    }
   },
   "source": [
    "#### TABLE"
   ]
  },
  {
   "cell_type": "code",
   "execution_count": null,
   "metadata": {
    "application/vnd.databricks.v1+cell": {
     "cellMetadata": {
      "byteLimit": 2048000,
      "rowLimit": 10000
     },
     "inputWidgets": {},
     "nuid": "4ddf7d1f-72c1-4e1d-9d97-94fa853c76ee",
     "showTitle": false,
     "title": ""
    }
   },
   "outputs": [],
   "source": [
    "# cargamos la tabla de usuarios\n",
    "\n",
    "df = spark.table(\"unal.users\")"
   ]
  },
  {
   "cell_type": "markdown",
   "metadata": {
    "application/vnd.databricks.v1+cell": {
     "cellMetadata": {},
     "inputWidgets": {},
     "nuid": "c1d76d7a-cb2f-4950-b37d-60037d22e966",
     "showTitle": false,
     "title": ""
    }
   },
   "source": [
    "#### SELECT"
   ]
  },
  {
   "cell_type": "code",
   "execution_count": null,
   "metadata": {
    "application/vnd.databricks.v1+cell": {
     "cellMetadata": {
      "byteLimit": 2048000,
      "rowLimit": 10000
     },
     "inputWidgets": {},
     "nuid": "e26a6e9f-fc09-4f4b-8161-73c809686238",
     "showTitle": false,
     "title": ""
    }
   },
   "outputs": [],
   "source": [
    "# forma \n",
    "df.select(\"first_name\", \"age\").show()"
   ]
  },
  {
   "cell_type": "markdown",
   "metadata": {
    "application/vnd.databricks.v1+cell": {
     "cellMetadata": {},
     "inputWidgets": {},
     "nuid": "4f9f825e-d8fd-4ad8-b29c-ffc89ae0e07e",
     "showTitle": false,
     "title": ""
    }
   },
   "source": [
    "#### TIPO PANDAS"
   ]
  },
  {
   "cell_type": "code",
   "execution_count": null,
   "metadata": {
    "application/vnd.databricks.v1+cell": {
     "cellMetadata": {
      "byteLimit": 2048000,
      "rowLimit": 10000
     },
     "inputWidgets": {},
     "nuid": "6ddd9913-d3eb-4588-8a84-6b65bd54ab13",
     "showTitle": false,
     "title": ""
    }
   },
   "outputs": [],
   "source": [
    "df[[\"first_name\", \"age\"]].show()"
   ]
  },
  {
   "cell_type": "markdown",
   "metadata": {
    "application/vnd.databricks.v1+cell": {
     "cellMetadata": {},
     "inputWidgets": {},
     "nuid": "ce20c3db-5b84-457c-9662-51ebaadb4b15",
     "showTitle": false,
     "title": ""
    }
   },
   "source": [
    "#### TIPO ATRIBUTO"
   ]
  },
  {
   "cell_type": "code",
   "execution_count": null,
   "metadata": {
    "application/vnd.databricks.v1+cell": {
     "cellMetadata": {
      "byteLimit": 2048000,
      "rowLimit": 10000
     },
     "inputWidgets": {},
     "nuid": "c833ec79-5774-4612-9345-f5e4adb21957",
     "showTitle": false,
     "title": ""
    }
   },
   "outputs": [],
   "source": [
    "df.select(df.first_name, df.age).show()"
   ]
  },
  {
   "cell_type": "markdown",
   "metadata": {
    "application/vnd.databricks.v1+cell": {
     "cellMetadata": {},
     "inputWidgets": {},
     "nuid": "a7a7d297-6d2c-46d6-a1ff-c6fbeb1ef34f",
     "showTitle": false,
     "title": ""
    }
   },
   "source": [
    "#### COL\n",
    "\n",
    "se usa principalmente para:\n",
    "\n",
    "- seleccionar\n",
    "- alias\n",
    "- crear nuevas columnas\n",
    "- castear datos\n",
    "- filtrado de datos"
   ]
  },
  {
   "cell_type": "code",
   "execution_count": null,
   "metadata": {
    "application/vnd.databricks.v1+cell": {
     "cellMetadata": {
      "byteLimit": 2048000,
      "rowLimit": 10000
     },
     "inputWidgets": {},
     "nuid": "b26b3e22-0a34-4351-a875-8ff438c94cb1",
     "showTitle": false,
     "title": ""
    }
   },
   "outputs": [],
   "source": [
    "from pyspark.sql.functions import col"
   ]
  },
  {
   "cell_type": "code",
   "execution_count": null,
   "metadata": {
    "application/vnd.databricks.v1+cell": {
     "cellMetadata": {
      "byteLimit": 2048000,
      "rowLimit": 10000
     },
     "inputWidgets": {},
     "nuid": "19ae9d52-481a-42aa-a491-5a981fa67e3c",
     "showTitle": false,
     "title": ""
    }
   },
   "outputs": [],
   "source": [
    "df.select(col(\"first_name\"), col(\"age\")).show()"
   ]
  },
  {
   "cell_type": "markdown",
   "metadata": {
    "application/vnd.databricks.v1+cell": {
     "cellMetadata": {},
     "inputWidgets": {},
     "nuid": "fbc16a44-6adf-4a84-a36c-cfc475b17e52",
     "showTitle": false,
     "title": ""
    }
   },
   "source": [
    "#### ALIAS"
   ]
  },
  {
   "cell_type": "code",
   "execution_count": null,
   "metadata": {
    "application/vnd.databricks.v1+cell": {
     "cellMetadata": {
      "byteLimit": 2048000,
      "rowLimit": 10000
     },
     "inputWidgets": {},
     "nuid": "41c233ae-8beb-42e3-b43a-e3dd83aaa49f",
     "showTitle": false,
     "title": ""
    }
   },
   "outputs": [],
   "source": [
    "df.select(col(\"first_name\").alias(\"user_full_name\"), col(\"age\")).show()"
   ]
  },
  {
   "cell_type": "markdown",
   "metadata": {
    "application/vnd.databricks.v1+cell": {
     "cellMetadata": {},
     "inputWidgets": {},
     "nuid": "5c399f63-20c6-4588-b4a1-16ece7cc4a7e",
     "showTitle": false,
     "title": ""
    }
   },
   "source": [
    "#### CAST"
   ]
  },
  {
   "cell_type": "code",
   "execution_count": null,
   "metadata": {
    "application/vnd.databricks.v1+cell": {
     "cellMetadata": {
      "byteLimit": 2048000,
      "rowLimit": 10000
     },
     "inputWidgets": {},
     "nuid": "ff57025a-7d1e-42d2-a45e-2a62aff19642",
     "showTitle": false,
     "title": ""
    }
   },
   "outputs": [],
   "source": [
    "df.select(\n",
    "    col(\"first_name\").alias(\"user_full_name\"),\n",
    "    col(\"age\").cast(\"float\").alias(\"older\")\n",
    ").printSchema()"
   ]
  },
  {
   "cell_type": "markdown",
   "metadata": {
    "application/vnd.databricks.v1+cell": {
     "cellMetadata": {},
     "inputWidgets": {},
     "nuid": "5c291006-24df-4e18-956c-67881fdd1cb1",
     "showTitle": false,
     "title": ""
    }
   },
   "source": [
    "### FILTRANDO DATOS"
   ]
  },
  {
   "cell_type": "markdown",
   "metadata": {
    "application/vnd.databricks.v1+cell": {
     "cellMetadata": {},
     "inputWidgets": {},
     "nuid": "7ba4efc5-684f-49c7-affd-f30cbf474869",
     "showTitle": false,
     "title": ""
    }
   },
   "source": [
    "#### WHERE"
   ]
  },
  {
   "cell_type": "code",
   "execution_count": null,
   "metadata": {
    "application/vnd.databricks.v1+cell": {
     "cellMetadata": {
      "byteLimit": 2048000,
      "rowLimit": 10000
     },
     "inputWidgets": {},
     "nuid": "6cd2b304-9a79-4f3e-8972-bd27c336a1d7",
     "showTitle": false,
     "title": ""
    }
   },
   "outputs": [],
   "source": [
    "df.where(col(\"age\") > 12).show()"
   ]
  },
  {
   "cell_type": "markdown",
   "metadata": {
    "application/vnd.databricks.v1+cell": {
     "cellMetadata": {},
     "inputWidgets": {},
     "nuid": "73dc03cd-ef85-4ab1-a54b-e74d671df9ed",
     "showTitle": false,
     "title": ""
    }
   },
   "source": [
    "#### FILTER SIMPLE"
   ]
  },
  {
   "cell_type": "code",
   "execution_count": null,
   "metadata": {
    "application/vnd.databricks.v1+cell": {
     "cellMetadata": {
      "byteLimit": 2048000,
      "rowLimit": 10000
     },
     "inputWidgets": {},
     "nuid": "e3c3056e-31e1-478c-b0a4-939e1d765d84",
     "showTitle": false,
     "title": ""
    }
   },
   "outputs": [],
   "source": [
    "df.filter(col(\"age\") > 12).show()"
   ]
  },
  {
   "cell_type": "markdown",
   "metadata": {
    "application/vnd.databricks.v1+cell": {
     "cellMetadata": {},
     "inputWidgets": {},
     "nuid": "154ecc64-0860-442e-b357-905bf44e563d",
     "showTitle": false,
     "title": ""
    }
   },
   "source": [
    "#### FILTER MULTIPLE (IGUAL PARA WHERE)\n",
    "\n",
    "En PySpark, los filtros se aplican a DataFrames para seleccionar filas que cumplan ciertas condiciones. Para construir filtros más complejos, se utilizan operadores lógicos como `AND`, `OR` y `NOT`. Estos operadores permiten combinar expresiones booleanas para especificar criterios de filtrado más detallados.\n",
    "\n",
    "Nota: al tener condiciones multiples, cada una se debe almacenar en `()`"
   ]
  },
  {
   "cell_type": "markdown",
   "metadata": {
    "application/vnd.databricks.v1+cell": {
     "cellMetadata": {},
     "inputWidgets": {},
     "nuid": "26f8f35e-ef72-441a-9c4a-ee983d58b152",
     "showTitle": false,
     "title": ""
    }
   },
   "source": [
    "##### AND (&)"
   ]
  },
  {
   "cell_type": "code",
   "execution_count": null,
   "metadata": {
    "application/vnd.databricks.v1+cell": {
     "cellMetadata": {
      "byteLimit": 2048000,
      "rowLimit": 10000
     },
     "inputWidgets": {},
     "nuid": "bda81ab7-a8eb-4d59-9f28-9209914bf20f",
     "showTitle": false,
     "title": ""
    }
   },
   "outputs": [],
   "source": [
    "df.where((col(\"age\") > 15) & (col(\"first_name\") == \"Alvis\")).show()"
   ]
  },
  {
   "cell_type": "markdown",
   "metadata": {
    "application/vnd.databricks.v1+cell": {
     "cellMetadata": {},
     "inputWidgets": {},
     "nuid": "b04b840f-b9d6-4a84-ab8c-ef40d0a4576a",
     "showTitle": false,
     "title": ""
    }
   },
   "source": [
    "\n",
    "##### OR (|)"
   ]
  },
  {
   "cell_type": "code",
   "execution_count": null,
   "metadata": {
    "application/vnd.databricks.v1+cell": {
     "cellMetadata": {
      "byteLimit": 2048000,
      "rowLimit": 10000
     },
     "inputWidgets": {},
     "nuid": "d798f5e1-47f7-4ddc-9762-7a1c87bc541a",
     "showTitle": false,
     "title": ""
    }
   },
   "outputs": [],
   "source": [
    "df.where((col(\"age\") > 15) | (col(\"first_name\") == \"Alvis\")).show()"
   ]
  },
  {
   "cell_type": "markdown",
   "metadata": {
    "application/vnd.databricks.v1+cell": {
     "cellMetadata": {},
     "inputWidgets": {},
     "nuid": "b93258ba-fe50-4813-85fc-2441dc9c9a3f",
     "showTitle": false,
     "title": ""
    }
   },
   "source": [
    "##### NOT(~)\n",
    "\n"
   ]
  },
  {
   "cell_type": "code",
   "execution_count": null,
   "metadata": {
    "application/vnd.databricks.v1+cell": {
     "cellMetadata": {
      "byteLimit": 2048000,
      "rowLimit": 10000
     },
     "inputWidgets": {},
     "nuid": "1b8d1e2a-36d4-4fe8-ae79-92742fda984e",
     "showTitle": false,
     "title": ""
    }
   },
   "outputs": [],
   "source": [
    "df.filter(~(col(\"age\") > 20)).show()"
   ]
  },
  {
   "cell_type": "markdown",
   "metadata": {
    "application/vnd.databricks.v1+cell": {
     "cellMetadata": {},
     "inputWidgets": {},
     "nuid": "4f35d467-8d67-4bf7-9a85-d66f52950abb",
     "showTitle": false,
     "title": ""
    }
   },
   "source": [
    "### AGRUPANDO DATOS"
   ]
  },
  {
   "cell_type": "code",
   "execution_count": null,
   "metadata": {
    "application/vnd.databricks.v1+cell": {
     "cellMetadata": {
      "byteLimit": 2048000,
      "rowLimit": 10000
     },
     "inputWidgets": {},
     "nuid": "ac035728-e566-438b-b8be-d86d88fff1a5",
     "showTitle": false,
     "title": ""
    }
   },
   "outputs": [],
   "source": [
    "from pyspark.sql.functions import sum, max, min, avg, count\n",
    "\n",
    "data = [\n",
    "  (\"producto_A\", 10, 100),\n",
    "  (\"Producto_B\", 5, 80),\n",
    "  (\"producto_A\", 7, 120),\n",
    "  (\"Producto_B\", 3, 90),\n",
    "  (\"producto_A\", 15, 110)\n",
    "]\n",
    "columns = [\"producto\", \"cantidad\", \"precio\"]\n",
    "dfg = spark.createDataFrame(data, columns)"
   ]
  },
  {
   "cell_type": "code",
   "execution_count": null,
   "metadata": {
    "application/vnd.databricks.v1+cell": {
     "cellMetadata": {
      "byteLimit": 2048000,
      "rowLimit": 10000
     },
     "inputWidgets": {},
     "nuid": "e63c8f43-b518-4f05-9e13-89123ce19129",
     "showTitle": false,
     "title": ""
    }
   },
   "outputs": [],
   "source": [
    "dfg.groupBy(\"producto\").agg(sum(\"cantidad\").alias(\"cantidad_total\"), sum(\"precio\").alias(\"pretio_total\")).show()"
   ]
  },
  {
   "cell_type": "code",
   "execution_count": null,
   "metadata": {
    "application/vnd.databricks.v1+cell": {
     "cellMetadata": {
      "byteLimit": 2048000,
      "rowLimit": 10000
     },
     "inputWidgets": {},
     "nuid": "a6d9dfdc-772e-44aa-9cc6-762803bb0ec1",
     "showTitle": false,
     "title": ""
    }
   },
   "outputs": [],
   "source": [
    "# analisis por producto\n",
    "dfg.groupBy(\"producto\") \\\n",
    "    .agg(sum(\"cantidad\").alias(\"cantidad_total\"), \n",
    "    avg(\"precio\").alias(\"precio_promedio\"),\n",
    "    min(\"precio\").alias(\"precio_promedio\"),\n",
    "    max(\"precio\").alias(\"precio_maximo\"),\n",
    "    count(\"producto\").alias(\"total_ventas\")\n",
    ").show()"
   ]
  },
  {
   "cell_type": "markdown",
   "metadata": {
    "application/vnd.databricks.v1+cell": {
     "cellMetadata": {},
     "inputWidgets": {},
     "nuid": "6ad3a722-7b50-40f7-bf38-d3ba01da2e29",
     "showTitle": false,
     "title": ""
    }
   },
   "source": [
    "### TRANSFORMACIONES DE DATOS\n",
    "\n",
    "## Funciones de Agregación\n",
    "- `avg(column)`: Calcula el promedio de los valores de una columna.\n",
    "- `count(column)`: Cuenta el número de valores en una columna.\n",
    "- `max(column)`: Encuentra el valor máximo en una columna.\n",
    "- `min(column)`: Encuentra el valor mínimo en una columna.\n",
    "- `sum(column)`: Suma los valores de una columna.\n",
    "\n",
    "## Funciones de Cadena\n",
    "- `concat(*cols)`: Concatena varias columnas en una sola columna de cadena.\n",
    "- `lower(column)`: Convierte los valores de una columna a minúsculas.\n",
    "- `upper(column)`: Convierte los valores de una columna a mayúsculas.\n",
    "- `substr(column, start, length)`: Extrae una subcadena de una columna de cadena.\n",
    "- `length(column)`: Devuelve la longitud de la cadena en una columna.\n",
    "\n",
    "## Funciones de Fecha y Hora\n",
    "- `current_date()`: Devuelve la fecha actual.\n",
    "- `current_timestamp()`: Devuelve la marca de tiempo actual.\n",
    "- `datediff(end, start)`: Calcula la diferencia en días entre dos fechas.\n",
    "- `date_add(start, days)`: Suma un número específico de días a una fecha.\n",
    "- `date_sub(start, days)`: Resta un número específico de días a una fecha.\n",
    "- `year(column)`: Extrae el año de una fecha.\n",
    "- `month(column)`: Extrae el mes de una fecha.\n",
    "- `dayofmonth(column)`: Extrae el día del mes de una fecha.\n",
    "\n",
    "## Funciones Matemáticas\n",
    "- `abs(column)`: Devuelve el valor absoluto de una columna.\n",
    "- `round(column, scale)`: Redondea los valores de una columna a un número específico de decimales.\n",
    "- `sqrt(column)`: Calcula la raíz cuadrada de los valores de una columna.\n",
    "- `pow(column, exp)`: Calcula la potencia de los valores de una columna.\n",
    "\n",
    "## Funciones Condicionales\n",
    "- `when(condition, value)`: Devuelve un valor cuando la condición es verdadera.\n",
    "- `otherwise(value)`: Especifica un valor alternativo cuando la condición es falsa (usado junto con `when`).\n",
    "\n",
    "## Funciones de Ventana\n",
    "- `row_number()`: Asigna un número de fila secuencial a cada fila dentro de una partición de un DataFrame.\n",
    "- `rank()`: Asigna un rango a cada fila dentro de una partición de un DataFrame.\n",
    "\n",
    "## Funciones de Orden Superior\n",
    "- `array(*cols)`: Crea una columna de tipo array.\n",
    "- `explode(column)`: Expande una columna de tipo array en filas individuales.\n",
    "- `map_keys(column)`: Devuelve una columna de tipo array de las claves de un mapa.\n",
    "- `map_values(column)`: Devuelve una columna de tipo array de los valores de un mapa.\n"
   ]
  },
  {
   "cell_type": "code",
   "execution_count": null,
   "metadata": {
    "application/vnd.databricks.v1+cell": {
     "cellMetadata": {
      "byteLimit": 2048000,
      "rowLimit": 10000
     },
     "inputWidgets": {},
     "nuid": "b1d1f82f-3895-4478-baa0-a286b4ee5ddc",
     "showTitle": false,
     "title": ""
    }
   },
   "outputs": [],
   "source": [
    "dft = dfg.groupBy(\"producto\") \\\n",
    "    .agg(sum(\"cantidad\").alias(\"cantidad_total\"), \n",
    "    avg(\"precio\").alias(\"precio_promedio\"),\n",
    "    min(\"precio\").alias(\"precio_promedio\"),\n",
    "    max(\"precio\").alias(\"precio_maximo\"),\n",
    "    count(\"producto\").alias(\"total_ventas\")\n",
    ")"
   ]
  },
  {
   "cell_type": "markdown",
   "metadata": {
    "application/vnd.databricks.v1+cell": {
     "cellMetadata": {},
     "inputWidgets": {},
     "nuid": "9e980818-6f73-4fdb-829e-a56d234d2990",
     "showTitle": false,
     "title": ""
    }
   },
   "source": [
    "#### CREAR NUEVA COLUMNA"
   ]
  },
  {
   "cell_type": "code",
   "execution_count": null,
   "metadata": {
    "application/vnd.databricks.v1+cell": {
     "cellMetadata": {
      "byteLimit": 2048000,
      "rowLimit": 10000
     },
     "inputWidgets": {},
     "nuid": "55ec280b-f521-4dec-8e7c-0846ec69ea92",
     "showTitle": false,
     "title": ""
    }
   },
   "outputs": [],
   "source": [
    "from pyspark.sql.functions import lit, col, split, explode"
   ]
  },
  {
   "cell_type": "code",
   "execution_count": null,
   "metadata": {
    "application/vnd.databricks.v1+cell": {
     "cellMetadata": {
      "byteLimit": 2048000,
      "rowLimit": 10000
     },
     "inputWidgets": {},
     "nuid": "ef1d1fcd-8b52-455d-bb20-bb6267f2ce5c",
     "showTitle": false,
     "title": ""
    }
   },
   "outputs": [],
   "source": [
    "# valor harcodeado , usamos lit\n",
    "dft.withColumn(\"xxx\", lit(\"ABC\")).show()"
   ]
  },
  {
   "cell_type": "code",
   "execution_count": null,
   "metadata": {
    "application/vnd.databricks.v1+cell": {
     "cellMetadata": {
      "byteLimit": 2048000,
      "rowLimit": 10000
     },
     "inputWidgets": {},
     "nuid": "c40fd0b3-3f57-4d54-b758-1c8f3e4cb6de",
     "showTitle": false,
     "title": ""
    }
   },
   "outputs": [],
   "source": [
    "# valor computado\n",
    "dft.withColumn(\"xxx\", col(\"cantidad_total\") /2).show()"
   ]
  },
  {
   "cell_type": "markdown",
   "metadata": {
    "application/vnd.databricks.v1+cell": {
     "cellMetadata": {},
     "inputWidgets": {},
     "nuid": "f63a1f77-e3b0-4330-9242-e71c67a4409d",
     "showTitle": false,
     "title": ""
    }
   },
   "source": [
    "#### RENOMBRAR COLUMNA"
   ]
  },
  {
   "cell_type": "code",
   "execution_count": null,
   "metadata": {
    "application/vnd.databricks.v1+cell": {
     "cellMetadata": {
      "byteLimit": 2048000,
      "rowLimit": 10000
     },
     "inputWidgets": {},
     "nuid": "c354f461-6515-47b2-87bd-a614a79e5cde",
     "showTitle": false,
     "title": ""
    }
   },
   "outputs": [],
   "source": [
    "dft.withColumn(\n",
    "    \"xxx\",\n",
    "    col(\"cantidad_total\") /2\n",
    "    ).withColumnRenamed(\"xxx\", \"my_column\").show()"
   ]
  },
  {
   "cell_type": "markdown",
   "metadata": {
    "application/vnd.databricks.v1+cell": {
     "cellMetadata": {},
     "inputWidgets": {},
     "nuid": "17ffb677-7cc2-4b19-957c-3554061f807b",
     "showTitle": false,
     "title": ""
    }
   },
   "source": [
    "\n",
    "#### ELIMINAR COLUMNA"
   ]
  },
  {
   "cell_type": "code",
   "execution_count": null,
   "metadata": {
    "application/vnd.databricks.v1+cell": {
     "cellMetadata": {
      "byteLimit": 2048000,
      "rowLimit": 10000
     },
     "inputWidgets": {},
     "nuid": "13a1eabe-f766-468d-98dd-a05ce7774d78",
     "showTitle": false,
     "title": ""
    }
   },
   "outputs": [],
   "source": [
    "aaa = dft.withColumn(\n",
    "    \"xxx\",\n",
    "    col(\"cantidad_total\") /2\n",
    "    ).withColumn(\"yyy\", lit(\"ABC\")).withColumnRenamed(\"xxx\", \"my_column\")\n",
    "aaa.drop(\"yyy\").show()"
   ]
  },
  {
   "cell_type": "code",
   "execution_count": null,
   "metadata": {
    "application/vnd.databricks.v1+cell": {
     "cellMetadata": {
      "byteLimit": 2048000,
      "rowLimit": 10000
     },
     "inputWidgets": {},
     "nuid": "1dceec2a-d85f-4117-81b9-87e7b9dd1ad8",
     "showTitle": false,
     "title": ""
    }
   },
   "outputs": [],
   "source": [
    "df.show()"
   ]
  },
  {
   "cell_type": "markdown",
   "metadata": {
    "application/vnd.databricks.v1+cell": {
     "cellMetadata": {},
     "inputWidgets": {},
     "nuid": "b20c2bf4-6d15-413d-b08a-c09d3d1ac9f8",
     "showTitle": false,
     "title": ""
    }
   },
   "source": [
    "\n",
    "#### EXPLODE"
   ]
  },
  {
   "cell_type": "code",
   "execution_count": null,
   "metadata": {
    "application/vnd.databricks.v1+cell": {
     "cellMetadata": {
      "byteLimit": 2048000,
      "rowLimit": 10000
     },
     "inputWidgets": {},
     "nuid": "1d95e5f6-5050-473d-8526-f033858743c3",
     "showTitle": false,
     "title": ""
    }
   },
   "outputs": [],
   "source": [
    "\n",
    "df.withColumn(\"array_emails\",  split(col(\"email_dependents\"), \",\")).printSchema()\n",
    "              "
   ]
  },
  {
   "cell_type": "code",
   "execution_count": null,
   "metadata": {
    "application/vnd.databricks.v1+cell": {
     "cellMetadata": {
      "byteLimit": 2048000,
      "rowLimit": 10000
     },
     "inputWidgets": {},
     "nuid": "310d9eb1-0439-48dd-90f4-02c241f34a35",
     "showTitle": false,
     "title": ""
    }
   },
   "outputs": [],
   "source": [
    "xyz = df.withColumn(\"array_emails\",  explode(split(col(\"email_dependents\"), \",\")))\n",
    "xyz.show()"
   ]
  },
  {
   "cell_type": "markdown",
   "metadata": {
    "application/vnd.databricks.v1+cell": {
     "cellMetadata": {},
     "inputWidgets": {},
     "nuid": "edb4c68e-9fc5-4800-a9bc-dceded6fd03b",
     "showTitle": false,
     "title": ""
    }
   },
   "source": [
    "\n",
    "#### UDF"
   ]
  },
  {
   "cell_type": "code",
   "execution_count": null,
   "metadata": {
    "application/vnd.databricks.v1+cell": {
     "cellMetadata": {
      "byteLimit": 2048000,
      "rowLimit": 10000
     },
     "inputWidgets": {},
     "nuid": "d9635af0-1aac-4f82-9705-5655119f995d",
     "showTitle": false,
     "title": ""
    }
   },
   "outputs": [],
   "source": [
    "from pyspark.sql.types import MapType, StringType, IntegerType\n",
    "from pyspark.sql.functions import udf\n",
    "\n",
    "def size_email(value):\n",
    "  size_message = len(value)\n",
    "  upper_cases = len([letter for letter in value if letter.isupper()])\n",
    "  lower_cases = len([letter for letter in value if letter.islower()])\n",
    "  digit_cases = len([letter for letter in value if letter.isdigit()])\n",
    "\n",
    "  return {\n",
    "    \"size\": size_message, \n",
    "    \"upperc\" :upper_cases, \n",
    "    \"lowerc\": lower_cases, \n",
    "    \"digitc\": digit_cases\n",
    "  }\n",
    "\n",
    "propia_udf = udf(size_email, MapType(StringType(), IntegerType()))"
   ]
  },
  {
   "cell_type": "code",
   "execution_count": null,
   "metadata": {
    "application/vnd.databricks.v1+cell": {
     "cellMetadata": {
      "byteLimit": 2048000,
      "rowLimit": 10000
     },
     "inputWidgets": {},
     "nuid": "2b027633-fc56-4719-8ccc-bbd80d1306a5",
     "showTitle": false,
     "title": ""
    }
   },
   "outputs": [],
   "source": [
    "zzz = xyz.withColumn(\"msmp\", propia_udf(col(\"array_emails\")))\n",
    "zzz.show()"
   ]
  },
  {
   "cell_type": "code",
   "execution_count": null,
   "metadata": {
    "application/vnd.databricks.v1+cell": {
     "cellMetadata": {
      "byteLimit": 2048000,
      "rowLimit": 10000
     },
     "inputWidgets": {},
     "nuid": "2db1cb51-655b-482d-94aa-dab8c8036966",
     "showTitle": false,
     "title": ""
    }
   },
   "outputs": [],
   "source": [
    "zzz.select(\n",
    "  zzz.array_emails,\n",
    "  zzz.msmp.size, \n",
    "    zzz.msmp.upperc, \n",
    "    zzz.msmp.lowerc, \n",
    "    col(\"msmp.digitc\").alias(\"digitc\")\n",
    ").show()"
   ]
  },
  {
   "cell_type": "code",
   "execution_count": null,
   "metadata": {
    "application/vnd.databricks.v1+cell": {
     "cellMetadata": {},
     "inputWidgets": {},
     "nuid": "87e49c18-fbd7-4625-b2f0-947cb83feef6",
     "showTitle": false,
     "title": ""
    }
   },
   "outputs": [],
   "source": []
  },
  {
   "cell_type": "code",
   "execution_count": null,
   "metadata": {
    "application/vnd.databricks.v1+cell": {
     "cellMetadata": {},
     "inputWidgets": {},
     "nuid": "7baf2688-8f82-4238-bb46-9667730d7bcb",
     "showTitle": false,
     "title": ""
    }
   },
   "outputs": [],
   "source": []
  },
  {
   "cell_type": "code",
   "execution_count": null,
   "metadata": {
    "application/vnd.databricks.v1+cell": {
     "cellMetadata": {},
     "inputWidgets": {},
     "nuid": "112d9476-70af-49bb-acb9-d9ffd35d06bf",
     "showTitle": false,
     "title": ""
    }
   },
   "outputs": [],
   "source": []
  },
  {
   "cell_type": "code",
   "execution_count": null,
   "metadata": {
    "application/vnd.databricks.v1+cell": {
     "cellMetadata": {},
     "inputWidgets": {},
     "nuid": "c151425e-f7cf-4fbb-a88b-fc7e5b68c714",
     "showTitle": false,
     "title": ""
    }
   },
   "outputs": [],
   "source": []
  },
  {
   "cell_type": "code",
   "execution_count": null,
   "metadata": {
    "application/vnd.databricks.v1+cell": {
     "cellMetadata": {},
     "inputWidgets": {},
     "nuid": "332a524d-f1df-4ab3-a8ae-0b69e0088e5d",
     "showTitle": false,
     "title": ""
    }
   },
   "outputs": [],
   "source": []
  },
  {
   "cell_type": "code",
   "execution_count": null,
   "metadata": {
    "application/vnd.databricks.v1+cell": {
     "cellMetadata": {},
     "inputWidgets": {},
     "nuid": "da27978c-78d8-4b75-beaf-789be64d5a52",
     "showTitle": false,
     "title": ""
    }
   },
   "outputs": [],
   "source": []
  },
  {
   "cell_type": "code",
   "execution_count": null,
   "metadata": {
    "application/vnd.databricks.v1+cell": {
     "cellMetadata": {},
     "inputWidgets": {},
     "nuid": "f0d9f845-bfa0-408c-9294-54184305f334",
     "showTitle": false,
     "title": ""
    }
   },
   "outputs": [],
   "source": []
  },
  {
   "cell_type": "code",
   "execution_count": null,
   "metadata": {
    "application/vnd.databricks.v1+cell": {
     "cellMetadata": {},
     "inputWidgets": {},
     "nuid": "72c0623f-6385-4ab0-842d-141333654ac6",
     "showTitle": false,
     "title": ""
    }
   },
   "outputs": [],
   "source": []
  },
  {
   "cell_type": "code",
   "execution_count": null,
   "metadata": {
    "application/vnd.databricks.v1+cell": {
     "cellMetadata": {},
     "inputWidgets": {},
     "nuid": "2689c808-6034-45c6-96b2-5d2b6dadccc4",
     "showTitle": false,
     "title": ""
    }
   },
   "outputs": [],
   "source": []
  },
  {
   "cell_type": "code",
   "execution_count": null,
   "metadata": {
    "application/vnd.databricks.v1+cell": {
     "cellMetadata": {},
     "inputWidgets": {},
     "nuid": "ed00b79d-8922-48cf-a885-722f6463d079",
     "showTitle": false,
     "title": ""
    }
   },
   "outputs": [],
   "source": []
  },
  {
   "cell_type": "code",
   "execution_count": null,
   "metadata": {
    "application/vnd.databricks.v1+cell": {
     "cellMetadata": {},
     "inputWidgets": {},
     "nuid": "87608f8b-5de3-432a-8e46-f4ab472d2d89",
     "showTitle": false,
     "title": ""
    }
   },
   "outputs": [],
   "source": []
  }
 ],
 "metadata": {
  "application/vnd.databricks.v1+notebook": {
   "dashboards": [],
   "environmentMetadata": null,
   "language": "python",
   "notebookMetadata": {
    "mostRecentlyExecutedCommandWithImplicitDF": {
     "commandId": 1950001615371023,
     "dataframes": [
      "_sqldf"
     ]
    },
    "pythonIndentUnit": 4
   },
   "notebookName": "002.core",
   "widgets": {}
  },
  "kernelspec": {
   "display_name": "Python 3 (ipykernel)",
   "language": "python",
   "name": "python3"
  },
  "language_info": {
   "codemirror_mode": {
    "name": "ipython",
    "version": 3
   },
   "file_extension": ".py",
   "mimetype": "text/x-python",
   "name": "python",
   "nbconvert_exporter": "python",
   "pygments_lexer": "ipython3",
   "version": "3.8.10"
  }
 },
 "nbformat": 4,
 "nbformat_minor": 4
}
